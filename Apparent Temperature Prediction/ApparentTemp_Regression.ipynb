{
 "cells": [
  {
   "cell_type": "markdown",
   "metadata": {},
   "source": [
    "# Weather History "
   ]
  },
  {
   "cell_type": "markdown",
   "metadata": {},
   "source": [
    "## `00 ` Import libraries "
   ]
  },
  {
   "cell_type": "code",
   "execution_count": 1,
   "metadata": {},
   "outputs": [
    {
     "name": "stderr",
     "output_type": "stream",
     "text": [
      "c:\\Users\\CRIZMA MEGA STORE\\anaconda3\\lib\\site-packages\\numpy\\_distributor_init.py:30: UserWarning: loaded more than 1 DLL from .libs:\n",
      "c:\\Users\\CRIZMA MEGA STORE\\anaconda3\\lib\\site-packages\\numpy\\.libs\\libopenblas.NOIJJG62EMASZI6NYURL6JBKM4EVBGM7.gfortran-win_amd64.dll\n",
      "c:\\Users\\CRIZMA MEGA STORE\\anaconda3\\lib\\site-packages\\numpy\\.libs\\libopenblas.PYQHXLVVQ7VESDPUVUADXEVJOBGHJPAY.gfortran-win_amd64.dll\n",
      "  warnings.warn(\"loaded more than 1 DLL from .libs:\\n%s\" %\n"
     ]
    }
   ],
   "source": [
    "import numpy as np\n",
    "import pandas as pd\n",
    "# visulaization\n",
    "import matplotlib.pyplot as plt\n",
    "import seaborn as sns\n",
    "\n",
    "#check normality\n",
    "from scipy.stats import shapiro\n",
    "#for Normalization\n",
    "from sklearn.preprocessing import MinMaxScaler, RobustScaler, StandardScaler\n",
    "#handling categorical feature\n",
    "from sklearn.preprocessing import LabelEncoder, OneHotEncoder, OrdinalEncoder\n",
    "#spliting data\n",
    "from sklearn.model_selection import train_test_split\n",
    "#models\n",
    "from sklearn.linear_model import LinearRegression\n",
    "from sklearn.preprocessing import PolynomialFeatures\n",
    "from sklearn.svm import SVR\n",
    "pd.set_option('display.max_columns', None)\n"
   ]
  },
  {
   "cell_type": "code",
   "execution_count": 2,
   "metadata": {},
   "outputs": [
    {
     "data": {
      "text/html": [
       "<div>\n",
       "<style scoped>\n",
       "    .dataframe tbody tr th:only-of-type {\n",
       "        vertical-align: middle;\n",
       "    }\n",
       "\n",
       "    .dataframe tbody tr th {\n",
       "        vertical-align: top;\n",
       "    }\n",
       "\n",
       "    .dataframe thead th {\n",
       "        text-align: right;\n",
       "    }\n",
       "</style>\n",
       "<table border=\"1\" class=\"dataframe\">\n",
       "  <thead>\n",
       "    <tr style=\"text-align: right;\">\n",
       "      <th></th>\n",
       "      <th>Formatted Date</th>\n",
       "      <th>Summary</th>\n",
       "      <th>Precip Type</th>\n",
       "      <th>Temperature (C)</th>\n",
       "      <th>Apparent Temperature (C)</th>\n",
       "      <th>Humidity</th>\n",
       "      <th>Wind Speed (km/h)</th>\n",
       "      <th>Wind Bearing (degrees)</th>\n",
       "      <th>Visibility (km)</th>\n",
       "      <th>Loud Cover</th>\n",
       "      <th>Pressure (millibars)</th>\n",
       "      <th>Daily Summary</th>\n",
       "    </tr>\n",
       "  </thead>\n",
       "  <tbody>\n",
       "    <tr>\n",
       "      <th>0</th>\n",
       "      <td>2006-04-01 00:00:00.000 +0200</td>\n",
       "      <td>Partly Cloudy</td>\n",
       "      <td>rain</td>\n",
       "      <td>9.472222</td>\n",
       "      <td>7.388889</td>\n",
       "      <td>0.89</td>\n",
       "      <td>14.1197</td>\n",
       "      <td>251.0</td>\n",
       "      <td>15.8263</td>\n",
       "      <td>0.0</td>\n",
       "      <td>1015.13</td>\n",
       "      <td>Partly cloudy throughout the day.</td>\n",
       "    </tr>\n",
       "    <tr>\n",
       "      <th>1</th>\n",
       "      <td>2006-04-01 01:00:00.000 +0200</td>\n",
       "      <td>Partly Cloudy</td>\n",
       "      <td>rain</td>\n",
       "      <td>9.355556</td>\n",
       "      <td>7.227778</td>\n",
       "      <td>0.86</td>\n",
       "      <td>14.2646</td>\n",
       "      <td>259.0</td>\n",
       "      <td>15.8263</td>\n",
       "      <td>0.0</td>\n",
       "      <td>1015.63</td>\n",
       "      <td>Partly cloudy throughout the day.</td>\n",
       "    </tr>\n",
       "    <tr>\n",
       "      <th>2</th>\n",
       "      <td>2006-04-01 02:00:00.000 +0200</td>\n",
       "      <td>Mostly Cloudy</td>\n",
       "      <td>rain</td>\n",
       "      <td>9.377778</td>\n",
       "      <td>9.377778</td>\n",
       "      <td>0.89</td>\n",
       "      <td>3.9284</td>\n",
       "      <td>204.0</td>\n",
       "      <td>14.9569</td>\n",
       "      <td>0.0</td>\n",
       "      <td>1015.94</td>\n",
       "      <td>Partly cloudy throughout the day.</td>\n",
       "    </tr>\n",
       "  </tbody>\n",
       "</table>\n",
       "</div>"
      ],
      "text/plain": [
       "                  Formatted Date        Summary Precip Type  Temperature (C)  \\\n",
       "0  2006-04-01 00:00:00.000 +0200  Partly Cloudy        rain         9.472222   \n",
       "1  2006-04-01 01:00:00.000 +0200  Partly Cloudy        rain         9.355556   \n",
       "2  2006-04-01 02:00:00.000 +0200  Mostly Cloudy        rain         9.377778   \n",
       "\n",
       "   Apparent Temperature (C)  Humidity  Wind Speed (km/h)  \\\n",
       "0                  7.388889      0.89            14.1197   \n",
       "1                  7.227778      0.86            14.2646   \n",
       "2                  9.377778      0.89             3.9284   \n",
       "\n",
       "   Wind Bearing (degrees)  Visibility (km)  Loud Cover  Pressure (millibars)  \\\n",
       "0                   251.0          15.8263         0.0               1015.13   \n",
       "1                   259.0          15.8263         0.0               1015.63   \n",
       "2                   204.0          14.9569         0.0               1015.94   \n",
       "\n",
       "                       Daily Summary  \n",
       "0  Partly cloudy throughout the day.  \n",
       "1  Partly cloudy throughout the day.  \n",
       "2  Partly cloudy throughout the day.  "
      ]
     },
     "execution_count": 2,
     "metadata": {},
     "output_type": "execute_result"
    }
   ],
   "source": [
    "df = pd.read_csv(\"weatherHistory.csv\")\n",
    "df.head(3)"
   ]
  },
  {
   "cell_type": "markdown",
   "metadata": {},
   "source": [
    "## `01 ` Split Data "
   ]
  },
  {
   "cell_type": "code",
   "execution_count": 3,
   "metadata": {},
   "outputs": [],
   "source": [
    "num_cols = list(set(df.select_dtypes(exclude=[object]).columns))\n",
    "cat_cols = list(df.select_dtypes(include=[object]).columns) "
   ]
  },
  {
   "cell_type": "markdown",
   "metadata": {},
   "source": [
    "## `02` EDA"
   ]
  },
  {
   "cell_type": "code",
   "execution_count": 4,
   "metadata": {},
   "outputs": [
    {
     "name": "stdout",
     "output_type": "stream",
     "text": [
      "<class 'pandas.core.frame.DataFrame'>\n",
      "RangeIndex: 96453 entries, 0 to 96452\n",
      "Data columns (total 12 columns):\n",
      " #   Column                    Non-Null Count  Dtype  \n",
      "---  ------                    --------------  -----  \n",
      " 0   Formatted Date            96453 non-null  object \n",
      " 1   Summary                   96453 non-null  object \n",
      " 2   Precip Type               95936 non-null  object \n",
      " 3   Temperature (C)           96453 non-null  float64\n",
      " 4   Apparent Temperature (C)  96453 non-null  float64\n",
      " 5   Humidity                  96453 non-null  float64\n",
      " 6   Wind Speed (km/h)         96453 non-null  float64\n",
      " 7   Wind Bearing (degrees)    96453 non-null  float64\n",
      " 8   Visibility (km)           96453 non-null  float64\n",
      " 9   Loud Cover                96453 non-null  float64\n",
      " 10  Pressure (millibars)      96453 non-null  float64\n",
      " 11  Daily Summary             96453 non-null  object \n",
      "dtypes: float64(8), object(4)\n",
      "memory usage: 8.8+ MB\n"
     ]
    }
   ],
   "source": [
    "df.info()"
   ]
  },
  {
   "cell_type": "markdown",
   "metadata": {},
   "source": [
    "### `2.1` Check Normality"
   ]
  },
  {
   "cell_type": "code",
   "execution_count": 5,
   "metadata": {},
   "outputs": [
    {
     "name": "stderr",
     "output_type": "stream",
     "text": [
      "c:\\Users\\CRIZMA MEGA STORE\\anaconda3\\lib\\site-packages\\seaborn\\distributions.py:316: UserWarning: Dataset has 0 variance; skipping density estimate. Pass `warn_singular=False` to disable this warning.\n",
      "  warnings.warn(msg, UserWarning)\n"
     ]
    },
    {
     "data": {
      "image/png": "[encoded data removed]",
      "text/plain": [
       "<Figure size 1440x1440 with 8 Axes>"
      ]
     },
     "metadata": {
      "needs_background": "light"
     },
     "output_type": "display_data"
    }
   ],
   "source": [
    "\n",
    "plt.figure(figsize=(20,20))\n",
    "for i, col in enumerate(df[num_cols]):\n",
    "    ax = plt.subplot(9, 5, i+1)\n",
    "    sns.kdeplot(df[col], ax=ax)\n",
    "plt.show()"
   ]
  },
  {
   "cell_type": "markdown",
   "metadata": {},
   "source": [
    "### `2.2` Check Nulls"
   ]
  },
  {
   "cell_type": "code",
   "execution_count": 6,
   "metadata": {},
   "outputs": [
    {
     "data": {
      "text/html": [
       "<div>\n",
       "<style scoped>\n",
       "    .dataframe tbody tr th:only-of-type {\n",
       "        vertical-align: middle;\n",
       "    }\n",
       "\n",
       "    .dataframe tbody tr th {\n",
       "        vertical-align: top;\n",
       "    }\n",
       "\n",
       "    .dataframe thead th {\n",
       "        text-align: right;\n",
       "    }\n",
       "</style>\n",
       "<table border=\"1\" class=\"dataframe\">\n",
       "  <thead>\n",
       "    <tr style=\"text-align: right;\">\n",
       "      <th></th>\n",
       "      <th>index</th>\n",
       "      <th>Nulls_Count</th>\n",
       "    </tr>\n",
       "  </thead>\n",
       "  <tbody>\n",
       "    <tr>\n",
       "      <th>0</th>\n",
       "      <td>Precip Type</td>\n",
       "      <td>0.536012</td>\n",
       "    </tr>\n",
       "  </tbody>\n",
       "</table>\n",
       "</div>"
      ],
      "text/plain": [
       "         index  Nulls_Count\n",
       "0  Precip Type     0.536012"
      ]
     },
     "execution_count": 6,
     "metadata": {},
     "output_type": "execute_result"
    }
   ],
   "source": [
    "nulls_df = ((df.isna().sum()/df.shape[0])*100).sort_values(ascending=False).reset_index().rename(columns = { 0 : \"Nulls_Count\"})\n",
    "nulls_df[nulls_df['Nulls_Count'] > 0]\n"
   ]
  },
  {
   "cell_type": "markdown",
   "metadata": {},
   "source": [
    "### `2.3` Check Duplicates"
   ]
  },
  {
   "cell_type": "code",
   "execution_count": 7,
   "metadata": {},
   "outputs": [
    {
     "data": {
      "text/plain": [
       "24"
      ]
     },
     "execution_count": 7,
     "metadata": {},
     "output_type": "execute_result"
    }
   ],
   "source": [
    "#check Duplicates\n",
    "df.duplicated().sum()"
   ]
  },
  {
   "cell_type": "markdown",
   "metadata": {},
   "source": [
    "### `2.4` Check Outliers"
   ]
  },
  {
   "cell_type": "code",
   "execution_count": 8,
   "metadata": {},
   "outputs": [
    {
     "data": {
      "image/png": "[encoded data removed]",
      "text/plain": [
       "<Figure size 1440x1440 with 8 Axes>"
      ]
     },
     "metadata": {
      "needs_background": "light"
     },
     "output_type": "display_data"
    }
   ],
   "source": [
    "#Check Outliers\n",
    "plt.figure(figsize=(20,20))\n",
    "for i, col in enumerate(df[num_cols]):\n",
    "    plt.subplot(9, 5, i+1)\n",
    "    sns.boxplot(x = df[col]) \n",
    "plt.show()\n"
   ]
  },
  {
   "cell_type": "markdown",
   "metadata": {},
   "source": [
    "### `2.5` Check Highly correlated features"
   ]
  },
  {
   "cell_type": "code",
   "execution_count": 9,
   "metadata": {},
   "outputs": [
    {
     "data": {
      "text/plain": [
       "<AxesSubplot:>"
      ]
     },
     "execution_count": 9,
     "metadata": {},
     "output_type": "execute_result"
    },
    {
     "data": {
      "image/png": "[encoded data removed]",
      "text/plain": [
       "<Figure size 504x360 with 2 Axes>"
      ]
     },
     "metadata": {
      "needs_background": "light"
     },
     "output_type": "display_data"
    }
   ],
   "source": [
    "# making a heatmap to inspect the highly correlated features\n",
    "import seaborn as sns\n",
    "corr_matrix = df[num_cols].corr()\n",
    "plt.subplots(figsize = (7, 5))\n",
    "sns.heatmap(corr_matrix, \n",
    "           xticklabels = corr_matrix.columns.values,\n",
    "           yticklabels = corr_matrix.columns.values, \n",
    "           linewidth = 0.1)"
   ]
  },
  {
   "cell_type": "markdown",
   "metadata": {},
   "source": [
    "### `2.6` Categorical Features"
   ]
  },
  {
   "cell_type": "code",
   "execution_count": 10,
   "metadata": {},
   "outputs": [
    {
     "data": {
      "text/plain": [
       "rain    85224\n",
       "snow    10712\n",
       "Name: Precip Type, dtype: int64"
      ]
     },
     "execution_count": 10,
     "metadata": {},
     "output_type": "execute_result"
    }
   ],
   "source": [
    "df['Precip Type'].value_counts()"
   ]
  },
  {
   "cell_type": "code",
   "execution_count": 11,
   "metadata": {},
   "outputs": [
    {
     "data": {
      "text/plain": [
       "Partly Cloudy                          31733\n",
       "Mostly Cloudy                          28094\n",
       "Overcast                               16597\n",
       "Clear                                  10890\n",
       "Foggy                                   7148\n",
       "Breezy and Overcast                      528\n",
       "Breezy and Mostly Cloudy                 516\n",
       "Breezy and Partly Cloudy                 386\n",
       "Dry and Partly Cloudy                     86\n",
       "Windy and Partly Cloudy                   67\n",
       "Light Rain                                63\n",
       "Breezy                                    54\n",
       "Windy and Overcast                        45\n",
       "Humid and Mostly Cloudy                   40\n",
       "Drizzle                                   39\n",
       "Breezy and Foggy                          35\n",
       "Windy and Mostly Cloudy                   35\n",
       "Dry                                       34\n",
       "Humid and Partly Cloudy                   17\n",
       "Dry and Mostly Cloudy                     14\n",
       "Rain                                      10\n",
       "Windy                                      8\n",
       "Humid and Overcast                         7\n",
       "Windy and Foggy                            4\n",
       "Dangerously Windy and Partly Cloudy        1\n",
       "Windy and Dry                              1\n",
       "Breezy and Dry                             1\n",
       "Name: Summary, dtype: int64"
      ]
     },
     "execution_count": 11,
     "metadata": {},
     "output_type": "execute_result"
    }
   ],
   "source": [
    "df['Summary'].value_counts()\n"
   ]
  },
  {
   "cell_type": "code",
   "execution_count": 12,
   "metadata": {},
   "outputs": [
    {
     "data": {
      "text/plain": [
       "Mostly cloudy throughout the day.                                                              20085\n",
       "Partly cloudy throughout the day.                                                               9981\n",
       "Partly cloudy until night.                                                                      6169\n",
       "Partly cloudy starting in the morning.                                                          5184\n",
       "Foggy in the morning.                                                                           4201\n",
       "                                                                                               ...  \n",
       "Mostly cloudy starting in the morning and breezy overnight.                                       24\n",
       "Mostly cloudy until night and windy starting in the morning continuing until afternoon.           24\n",
       "Mostly cloudy throughout the day and breezy starting in the evening continuing until night.       24\n",
       "Light rain in the morning and afternoon.                                                          24\n",
       "Foggy starting overnight continuing until morning and breezy in the afternoon.                    23\n",
       "Name: Daily Summary, Length: 214, dtype: int64"
      ]
     },
     "execution_count": 12,
     "metadata": {},
     "output_type": "execute_result"
    }
   ],
   "source": [
    "df['Daily Summary'].value_counts()"
   ]
  },
  {
   "cell_type": "markdown",
   "metadata": {},
   "source": [
    " \n",
    "> ### **Observations :**\n",
    "> Data have : \n",
    "> 1. Nulls\n",
    "> 2. Duplicate values\n",
    "> 3. Highly Corrolated Features\n",
    "> 4. Skewness\n",
    "> 5. Outliers <br>\n",
    ">\n",
    "\n",
    "\n"
   ]
  },
  {
   "cell_type": "markdown",
   "metadata": {},
   "source": [
    "## `03` Data Preprocessing"
   ]
  },
  {
   "cell_type": "code",
   "execution_count": 13,
   "metadata": {},
   "outputs": [
    {
     "data": {
      "text/plain": [
       "8"
      ]
     },
     "execution_count": 13,
     "metadata": {},
     "output_type": "execute_result"
    }
   ],
   "source": [
    "## separating the categorical features and numerical features\n",
    "num_cols = list(set(df.select_dtypes(exclude=[object]).columns))\n",
    "cat_cols = list(df.select_dtypes(include=[object]).columns) \n",
    "ordinal_cols = [] \n",
    "nominal_cols = ['Summary', 'Precip Type', 'Daily Summary']\n",
    "target = ['Temperature (C)']\n",
    "len(num_cols)"
   ]
  },
  {
   "cell_type": "markdown",
   "metadata": {},
   "source": [
    "#### `3.1` Handling Nulls"
   ]
  },
  {
   "cell_type": "code",
   "execution_count": 14,
   "metadata": {},
   "outputs": [],
   "source": [
    "## columns which have more than 60% of the data NULL values should be dropped\n",
    "df = df.drop(columns = ['Loud Cover'])\n",
    "\n",
    "## when the number of nulls in a row is very small, we can simply drop this small number of rows\n",
    "df = df.dropna(axis = 0, subset = ['Precip Type'])\n",
    "num_cols = list(set(df.select_dtypes(exclude=[object]).columns))"
   ]
  },
  {
   "cell_type": "markdown",
   "metadata": {},
   "source": [
    "#### `3.2` Dropping duplicates"
   ]
  },
  {
   "cell_type": "code",
   "execution_count": 15,
   "metadata": {},
   "outputs": [],
   "source": [
    "df = df.drop_duplicates()"
   ]
  },
  {
   "cell_type": "markdown",
   "metadata": {},
   "source": [
    "#### `3.3` Handling Categorical Data"
   ]
  },
  {
   "cell_type": "code",
   "execution_count": 16,
   "metadata": {},
   "outputs": [
    {
     "data": {
      "text/html": [
       "<div>\n",
       "<style scoped>\n",
       "    .dataframe tbody tr th:only-of-type {\n",
       "        vertical-align: middle;\n",
       "    }\n",
       "\n",
       "    .dataframe tbody tr th {\n",
       "        vertical-align: top;\n",
       "    }\n",
       "\n",
       "    .dataframe thead th {\n",
       "        text-align: right;\n",
       "    }\n",
       "</style>\n",
       "<table border=\"1\" class=\"dataframe\">\n",
       "  <thead>\n",
       "    <tr style=\"text-align: right;\">\n",
       "      <th></th>\n",
       "      <th>Temperature (C)</th>\n",
       "      <th>Apparent Temperature (C)</th>\n",
       "      <th>Humidity</th>\n",
       "      <th>Wind Speed (km/h)</th>\n",
       "      <th>Wind Bearing (degrees)</th>\n",
       "      <th>Visibility (km)</th>\n",
       "      <th>Pressure (millibars)</th>\n",
       "      <th>Summary_0</th>\n",
       "      <th>Summary_1</th>\n",
       "      <th>Summary_2</th>\n",
       "      <th>Summary_3</th>\n",
       "      <th>Summary_4</th>\n",
       "      <th>Precip Type_0</th>\n",
       "      <th>Precip Type_1</th>\n",
       "      <th>Daily Summary_0</th>\n",
       "      <th>Daily Summary_1</th>\n",
       "      <th>Daily Summary_2</th>\n",
       "      <th>Daily Summary_3</th>\n",
       "      <th>Daily Summary_4</th>\n",
       "      <th>Daily Summary_5</th>\n",
       "      <th>Daily Summary_6</th>\n",
       "      <th>Daily Summary_7</th>\n",
       "    </tr>\n",
       "  </thead>\n",
       "  <tbody>\n",
       "    <tr>\n",
       "      <th>0</th>\n",
       "      <td>9.472222</td>\n",
       "      <td>7.388889</td>\n",
       "      <td>0.89</td>\n",
       "      <td>14.1197</td>\n",
       "      <td>251.0</td>\n",
       "      <td>15.8263</td>\n",
       "      <td>1015.13</td>\n",
       "      <td>0</td>\n",
       "      <td>0</td>\n",
       "      <td>0</td>\n",
       "      <td>0</td>\n",
       "      <td>1</td>\n",
       "      <td>0</td>\n",
       "      <td>1</td>\n",
       "      <td>0</td>\n",
       "      <td>0</td>\n",
       "      <td>0</td>\n",
       "      <td>0</td>\n",
       "      <td>0</td>\n",
       "      <td>0</td>\n",
       "      <td>0</td>\n",
       "      <td>1</td>\n",
       "    </tr>\n",
       "    <tr>\n",
       "      <th>1</th>\n",
       "      <td>9.355556</td>\n",
       "      <td>7.227778</td>\n",
       "      <td>0.86</td>\n",
       "      <td>14.2646</td>\n",
       "      <td>259.0</td>\n",
       "      <td>15.8263</td>\n",
       "      <td>1015.63</td>\n",
       "      <td>0</td>\n",
       "      <td>0</td>\n",
       "      <td>0</td>\n",
       "      <td>0</td>\n",
       "      <td>1</td>\n",
       "      <td>0</td>\n",
       "      <td>1</td>\n",
       "      <td>0</td>\n",
       "      <td>0</td>\n",
       "      <td>0</td>\n",
       "      <td>0</td>\n",
       "      <td>0</td>\n",
       "      <td>0</td>\n",
       "      <td>0</td>\n",
       "      <td>1</td>\n",
       "    </tr>\n",
       "    <tr>\n",
       "      <th>2</th>\n",
       "      <td>9.377778</td>\n",
       "      <td>9.377778</td>\n",
       "      <td>0.89</td>\n",
       "      <td>3.9284</td>\n",
       "      <td>204.0</td>\n",
       "      <td>14.9569</td>\n",
       "      <td>1015.94</td>\n",
       "      <td>0</td>\n",
       "      <td>0</td>\n",
       "      <td>0</td>\n",
       "      <td>1</td>\n",
       "      <td>0</td>\n",
       "      <td>0</td>\n",
       "      <td>1</td>\n",
       "      <td>0</td>\n",
       "      <td>0</td>\n",
       "      <td>0</td>\n",
       "      <td>0</td>\n",
       "      <td>0</td>\n",
       "      <td>0</td>\n",
       "      <td>0</td>\n",
       "      <td>1</td>\n",
       "    </tr>\n",
       "    <tr>\n",
       "      <th>3</th>\n",
       "      <td>8.288889</td>\n",
       "      <td>5.944444</td>\n",
       "      <td>0.83</td>\n",
       "      <td>14.1036</td>\n",
       "      <td>269.0</td>\n",
       "      <td>15.8263</td>\n",
       "      <td>1016.41</td>\n",
       "      <td>0</td>\n",
       "      <td>0</td>\n",
       "      <td>0</td>\n",
       "      <td>0</td>\n",
       "      <td>1</td>\n",
       "      <td>0</td>\n",
       "      <td>1</td>\n",
       "      <td>0</td>\n",
       "      <td>0</td>\n",
       "      <td>0</td>\n",
       "      <td>0</td>\n",
       "      <td>0</td>\n",
       "      <td>0</td>\n",
       "      <td>0</td>\n",
       "      <td>1</td>\n",
       "    </tr>\n",
       "    <tr>\n",
       "      <th>4</th>\n",
       "      <td>8.755556</td>\n",
       "      <td>6.977778</td>\n",
       "      <td>0.83</td>\n",
       "      <td>11.0446</td>\n",
       "      <td>259.0</td>\n",
       "      <td>15.8263</td>\n",
       "      <td>1016.51</td>\n",
       "      <td>0</td>\n",
       "      <td>0</td>\n",
       "      <td>0</td>\n",
       "      <td>1</td>\n",
       "      <td>0</td>\n",
       "      <td>0</td>\n",
       "      <td>1</td>\n",
       "      <td>0</td>\n",
       "      <td>0</td>\n",
       "      <td>0</td>\n",
       "      <td>0</td>\n",
       "      <td>0</td>\n",
       "      <td>0</td>\n",
       "      <td>0</td>\n",
       "      <td>1</td>\n",
       "    </tr>\n",
       "  </tbody>\n",
       "</table>\n",
       "</div>"
      ],
      "text/plain": [
       "   Temperature (C)  Apparent Temperature (C)  Humidity  Wind Speed (km/h)  \\\n",
       "0         9.472222                  7.388889      0.89            14.1197   \n",
       "1         9.355556                  7.227778      0.86            14.2646   \n",
       "2         9.377778                  9.377778      0.89             3.9284   \n",
       "3         8.288889                  5.944444      0.83            14.1036   \n",
       "4         8.755556                  6.977778      0.83            11.0446   \n",
       "\n",
       "   Wind Bearing (degrees)  Visibility (km)  Pressure (millibars)  Summary_0  \\\n",
       "0                   251.0          15.8263               1015.13          0   \n",
       "1                   259.0          15.8263               1015.63          0   \n",
       "2                   204.0          14.9569               1015.94          0   \n",
       "3                   269.0          15.8263               1016.41          0   \n",
       "4                   259.0          15.8263               1016.51          0   \n",
       "\n",
       "   Summary_1  Summary_2  Summary_3  Summary_4  Precip Type_0  Precip Type_1  \\\n",
       "0          0          0          0          1              0              1   \n",
       "1          0          0          0          1              0              1   \n",
       "2          0          0          1          0              0              1   \n",
       "3          0          0          0          1              0              1   \n",
       "4          0          0          1          0              0              1   \n",
       "\n",
       "   Daily Summary_0  Daily Summary_1  Daily Summary_2  Daily Summary_3  \\\n",
       "0                0                0                0                0   \n",
       "1                0                0                0                0   \n",
       "2                0                0                0                0   \n",
       "3                0                0                0                0   \n",
       "4                0                0                0                0   \n",
       "\n",
       "   Daily Summary_4  Daily Summary_5  Daily Summary_6  Daily Summary_7  \n",
       "0                0                0                0                1  \n",
       "1                0                0                0                1  \n",
       "2                0                0                0                1  \n",
       "3                0                0                0                1  \n",
       "4                0                0                0                1  "
      ]
     },
     "execution_count": 16,
     "metadata": {},
     "output_type": "execute_result"
    }
   ],
   "source": [
    "import category_encoders as ce\n",
    "binaryEncoder = ce.BinaryEncoder()\n",
    "binary_encoded_df = pd.concat([df, binaryEncoder.fit_transform(df[nominal_cols])], axis=1)\n",
    "binary_encoded_df.drop(columns= nominal_cols + ['Formatted Date'], inplace=True)\n",
    "binary_encoded_df.head(5)"
   ]
  },
  {
   "cell_type": "markdown",
   "metadata": {},
   "source": [
    "#### `3.4` Handling Highly Corrolated Features"
   ]
  },
  {
   "cell_type": "code",
   "execution_count": 17,
   "metadata": {
    "id": "XvmNIqClH_en"
   },
   "outputs": [],
   "source": [
    "train_data, validation_data = train_test_split(binary_encoded_df, test_size = 0.2, random_state = 42)"
   ]
  },
  {
   "cell_type": "code",
   "execution_count": 18,
   "metadata": {},
   "outputs": [],
   "source": [
    "def handling_highlyCorrelatedFeatures (train_data, validation_data, target, threshold = 0.7):\n",
    "    num_cols = list(set(train_data.select_dtypes(exclude=[object]).columns))\n",
    "    features_to_be_dropped = []\n",
    "    num_cols_wthout_response_var = list(set(num_cols) - set([target]))\n",
    "    corr_matrix = train_data[num_cols_wthout_response_var].corr() \n",
    "\n",
    "    for row_idx in range(corr_matrix.values.shape[0]):\n",
    "        for col_idx in range(row_idx + 1,corr_matrix.values.shape[0]):\n",
    "            if (np.abs(corr_matrix.values[row_idx, col_idx]) > threshold):\n",
    "                var_row_corr_wth_response = np.abs(np.corrcoef(train_data[target], \n",
    "                                                        train_data[num_cols_wthout_response_var[row_idx]])[0, 1])\n",
    "                var_col_corr_wth_response = np.abs(np.corrcoef(train_data[target], \n",
    "                                                        train_data[num_cols_wthout_response_var[col_idx]])[0, 1])\n",
    "                \n",
    "                if var_row_corr_wth_response > var_col_corr_wth_response:\n",
    "                    # print('we will drop the column ', num_cols_wthout_response_var[col_idx])\n",
    "                    train_data = train_data.drop(columns = [num_cols_wthout_response_var[col_idx]])\n",
    "                    validation_data = validation_data.drop(columns = [num_cols_wthout_response_var[col_idx]])\n",
    "                    features_to_be_dropped.append(num_cols_wthout_response_var[col_idx])\n",
    "                else:\n",
    "                    # print('we will drop the column ', num_cols_wthout_response_var[row_idx])\n",
    "                    train_data = train_data.drop(columns = [num_cols_wthout_response_var[row_idx]])\n",
    "                    validation_data = validation_data.drop(columns = [num_cols_wthout_response_var[row_idx]])\n",
    "                    features_to_be_dropped.append(num_cols_wthout_response_var[row_idx])\n",
    "    return train_data, validation_data\n"
   ]
  },
  {
   "cell_type": "markdown",
   "metadata": {},
   "source": [
    "#### `3.5` Handling Outliers"
   ]
  },
  {
   "cell_type": "code",
   "execution_count": 19,
   "metadata": {},
   "outputs": [],
   "source": [
    "def bounds_calc(train_data, col, boundry_threshold):\n",
    "  Q1 = np.percentile(train_data[col], q = 25, interpolation = 'midpoint')\n",
    "  Q3 = np.percentile(train_data[col], q = 75, interpolation = 'midpoint')\n",
    "  IQR = Q3 - Q1\n",
    "  Upper_Bound = Q3 + boundry_threshold * IQR\n",
    "  Lower_Bound = Q1 - boundry_threshold * IQR\n",
    "  return Lower_Bound, Upper_Bound\n",
    "    \n",
    "def outliers_clamping(Lower_Bound, Upper_Bound, value):\n",
    "  if value > Upper_Bound:\n",
    "    return Upper_Bound\n",
    "  elif value < Lower_Bound:\n",
    "    return Lower_Bound\n",
    "  else:\n",
    "    return value\n",
    "\n",
    "def outliers_handling(train_data, validation_data, boundry_threshold):\n",
    "    num_data = list(set(train_data.select_dtypes(exclude=[object]).columns))\n",
    "    for col in num_data:\n",
    "        Lower_Bound, Upper_Bound = bounds_calc(train_data, col, boundry_threshold)\n",
    "        train_data[col] = train_data[col].apply(lambda x : outliers_clamping(Lower_Bound, Upper_Bound, x))\n",
    "        validation_data[col] = validation_data[col].apply(lambda x : outliers_clamping(Lower_Bound, Upper_Bound, x))\n",
    "    return train_data, validation_data"
   ]
  },
  {
   "cell_type": "markdown",
   "metadata": {},
   "source": [
    "#### `3.6` Handling Skewness"
   ]
  },
  {
   "cell_type": "code",
   "execution_count": 20,
   "metadata": {},
   "outputs": [],
   "source": [
    "def skewness_calc(col ,df):\n",
    "    std_col = np.std(df[col])\n",
    "    mean_col = np.mean(df[col])\n",
    "    size_rows = df.count()[0]\n",
    "    skewness = np.sum(np.power(df[col] - mean_col, 3))/((size_rows - 1) * np.power(std_col, 3))\n",
    "    return skewness\n",
    "\n",
    "def skewed_data_transformation(value):\n",
    "  return np.log(1 + np.abs(value))\n",
    "\n",
    "def skewness_handling(train_data, validation_data):\n",
    "    num_data = list(set(train_data.select_dtypes(exclude=[object]).columns))\n",
    "    skewed_train_cols = []\n",
    "    for col in num_data: \n",
    "        sk = skewness_calc(col, train_data)\n",
    "        if (np.abs(sk) >= 1):\n",
    "            skewed_train_cols.append(col)\n",
    "            train_data[col] = train_data[col].apply(lambda x : skewed_data_transformation(x))\n",
    "            validation_data[col] = validation_data[col].apply(lambda x : skewed_data_transformation(x))\n",
    "    return train_data, validation_data"
   ]
  },
  {
   "cell_type": "markdown",
   "metadata": {},
   "source": [
    "#### `3.7` Feature Scaling"
   ]
  },
  {
   "cell_type": "markdown",
   "metadata": {},
   "source": [
    "##### `3.7.1 ` Shapiro-Wilk(Normal Distribution) test"
   ]
  },
  {
   "cell_type": "code",
   "execution_count": 22,
   "metadata": {},
   "outputs": [],
   "source": [
    "def Shapiro_Wilk_test (df, num_cols, alpha):\n",
    "    feats_std_scale = []\n",
    "    feats_min_max_scale = []\n",
    "    sample_data  = train_data.sample(replace = False, n= 500)\n",
    "    for col in num_cols:\n",
    "        stat, p = shapiro(sample_data[col])\n",
    "        if p > alpha:\n",
    "            feats_std_scale.append(col)\n",
    "        else:\n",
    "            feats_min_max_scale.append(col)\n",
    "    return feats_min_max_scale, feats_std_scale"
   ]
  },
  {
   "cell_type": "markdown",
   "metadata": {},
   "source": [
    "##### `3.7.2 ` Scaling Features"
   ]
  },
  {
   "cell_type": "code",
   "execution_count": 23,
   "metadata": {},
   "outputs": [],
   "source": [
    "# brute force code , Don't forget to enhance ittttttt  ----------------->\n",
    "def scaling_features (train_data, validation_data, alpha):\n",
    "    num_data = list(set(train_data.select_dtypes(exclude=[object]).columns) - set(['Id']))\n",
    "    feats_min_max_scale, feats_std_scale = Shapiro_Wilk_test(train_data, num_data, alpha)\n",
    "    \n",
    "    if len(feats_std_scale) <= 0  :\n",
    "        min_max_scaler = MinMaxScaler()\n",
    "        min_max_scaler_model = min_max_scaler.fit(train_data[feats_min_max_scale])\n",
    "        min_max_scaled_train_data = pd.DataFrame(min_max_scaler_model.transform(train_data[feats_min_max_scale]), columns = feats_min_max_scale)\n",
    "        min_max_scaled_validation_data = pd.DataFrame(min_max_scaler_model.transform(validation_data[feats_min_max_scale]), columns = feats_min_max_scale)\n",
    "        num_train_data = min_max_scaled_train_data\n",
    "        num_validation_data = min_max_scaled_validation_data\n",
    "    elif len(feats_min_max_scale) <= 0 :\n",
    "        std_scaler = StandardScaler()\n",
    "        std_scaler_model = std_scaler.fit(train_data[feats_std_scale])\n",
    "        std_scaled_train_data = pd.DataFrame(std_scaler_model.transform(train_data[feats_std_scale]), columns = feats_std_scale)\n",
    "        std_scaled_validation_data = pd.DataFrame(std_scaler_model.transform(validation_data[feats_std_scale]), columns = feats_std_scale)\n",
    "        num_train_data = std_scaled_train_data\n",
    "        num_validation_data = std_scaled_validation_data\n",
    "    else : \n",
    "        min_max_scaler = MinMaxScaler()\n",
    "        min_max_scaler_model = min_max_scaler.fit(train_data[feats_min_max_scale])\n",
    "        min_max_scaled_train_data = pd.DataFrame(min_max_scaler_model.transform(train_data[feats_min_max_scale]), columns = feats_min_max_scale)\n",
    "        min_max_scaled_validation_data = pd.DataFrame(min_max_scaler_model.transform(validation_data[feats_min_max_scale]), columns = feats_min_max_scale)\n",
    "        \n",
    "        std_scaler = StandardScaler()\n",
    "        std_scaler_model = std_scaler.fit(train_data[feats_std_scale])\n",
    "        std_scaled_train_data = pd.DataFrame(std_scaler_model.transform(train_data[feats_std_scale]), columns = feats_std_scale)\n",
    "        std_scaled_validation_data = pd.DataFrame(std_scaler_model.transform(validation_data[feats_std_scale]), columns = feats_std_scale)\n",
    "        \n",
    "        num_train_data = std_scaled_train_data.merge(min_max_scaled_train_data, right_index = True, left_index = True)\n",
    "        num_validation_data = std_scaled_validation_data.merge(min_max_scaled_validation_data, right_index = True, left_index = True)\n",
    "        \n",
    "    print(\"features to be scaled with min max\",  feats_min_max_scale)\n",
    "    print(\"features to be scaled with standarization\",  feats_std_scale)\n",
    "    \n",
    "    return num_train_data, num_validation_data\n"
   ]
  },
  {
   "cell_type": "markdown",
   "metadata": {},
   "source": [
    "### **Pre-Processing Function** "
   ]
  },
  {
   "cell_type": "code",
   "execution_count": 24,
   "metadata": {},
   "outputs": [],
   "source": [
    "def pre_processing(train_data, validation_data, target, boundry_threshold , correlation_threshold, shapiro_alpha):\n",
    "    \n",
    "    #2) handling highly Correlated Features\n",
    "    train_data, validation_data= handling_highlyCorrelatedFeatures (train_data, validation_data, target, correlation_threshold)\n",
    "\n",
    "    #3) outliers handling for the whole data using training data boundries\n",
    "    train_data, validation_data = outliers_handling(train_data, validation_data, boundry_threshold)\n",
    "\n",
    "    #4) skewness handling for the whole data training data boundries\n",
    "    train_data, validation_data = skewness_handling(train_data, validation_data)\n",
    "    \n",
    "    #5) Scaling Features\n",
    "    num_train_df, num_validation_df = scaling_features(train_data, validation_data, shapiro_alpha)\n",
    "\n",
    "    return num_train_df, num_validation_df"
   ]
  },
  {
   "cell_type": "code",
   "execution_count": 25,
   "metadata": {},
   "outputs": [
    {
     "name": "stderr",
     "output_type": "stream",
     "text": [
      "C:\\Users\\CRIZMA MEGA STORE\\AppData\\Local\\Temp\\ipykernel_8496\\2927179755.py:5: RuntimeWarning: invalid value encountered in double_scalars\n",
      "  skewness = np.sum(np.power(df[col] - mean_col, 3))/((size_rows - 1) * np.power(std_col, 3))\n",
      "c:\\Users\\CRIZMA MEGA STORE\\anaconda3\\lib\\site-packages\\scipy\\stats\\morestats.py:1681: UserWarning: p-value may not be accurate for N > 5000.\n",
      "  warnings.warn(\"p-value may not be accurate for N > 5000.\")\n",
      "c:\\Users\\CRIZMA MEGA STORE\\anaconda3\\lib\\site-packages\\scipy\\stats\\morestats.py:1678: UserWarning: Input data for shapiro has range zero. The results may not be accurate.\n",
      "  warnings.warn(\"Input data for shapiro has range zero. The results \"\n"
     ]
    },
    {
     "name": "stdout",
     "output_type": "stream",
     "text": [
      "features to be scaled with min max ['Daily Summary_7', 'Pressure (millibars)', 'Wind Bearing (degrees)', 'Wind Speed (km/h)', 'Visibility (km)', 'Summary_4', 'Humidity', 'Temperature (C)', 'Apparent Temperature (C)', 'Daily Summary_4', 'Daily Summary_5', 'Summary_3', 'Daily Summary_6']\n",
      "features to be scaled with standarization ['Summary_0', 'Summary_2', 'Daily Summary_3', 'Daily Summary_1', 'Daily Summary_0', 'Precip Type_1', 'Summary_1', 'Daily Summary_2']\n",
      "final_train_data shape = (76729, 21)\n",
      "final_test_data shape = (19183, 21)\n"
     ]
    }
   ],
   "source": [
    "final_train_data, final_test_data = pre_processing( train_data,\n",
    "                                                    validation_data,\n",
    "                                                    target='Apparent Temperature (C)',\n",
    "                                                    boundry_threshold = 1.5,\n",
    "                                                    correlation_threshold = 0.7,\n",
    "                                                    shapiro_alpha = 0.001\n",
    "                                                    )     \n",
    "print(f'final_train_data shape = {final_train_data.shape}')  \n",
    "print(f'final_test_data shape = {final_test_data.shape}')  "
   ]
  },
  {
   "cell_type": "code",
   "execution_count": 26,
   "metadata": {},
   "outputs": [
    {
     "data": {
      "text/html": [
       "<div>\n",
       "<style scoped>\n",
       "    .dataframe tbody tr th:only-of-type {\n",
       "        vertical-align: middle;\n",
       "    }\n",
       "\n",
       "    .dataframe tbody tr th {\n",
       "        vertical-align: top;\n",
       "    }\n",
       "\n",
       "    .dataframe thead th {\n",
       "        text-align: right;\n",
       "    }\n",
       "</style>\n",
       "<table border=\"1\" class=\"dataframe\">\n",
       "  <thead>\n",
       "    <tr style=\"text-align: right;\">\n",
       "      <th></th>\n",
       "      <th>Summary_0</th>\n",
       "      <th>Summary_2</th>\n",
       "      <th>Daily Summary_3</th>\n",
       "      <th>Daily Summary_1</th>\n",
       "      <th>Daily Summary_0</th>\n",
       "      <th>Precip Type_1</th>\n",
       "      <th>Summary_1</th>\n",
       "      <th>Daily Summary_2</th>\n",
       "      <th>Daily Summary_7</th>\n",
       "      <th>Pressure (millibars)</th>\n",
       "      <th>Wind Bearing (degrees)</th>\n",
       "      <th>Wind Speed (km/h)</th>\n",
       "      <th>Visibility (km)</th>\n",
       "      <th>Summary_4</th>\n",
       "      <th>Humidity</th>\n",
       "      <th>Temperature (C)</th>\n",
       "      <th>Apparent Temperature (C)</th>\n",
       "      <th>Daily Summary_4</th>\n",
       "      <th>Daily Summary_5</th>\n",
       "      <th>Summary_3</th>\n",
       "      <th>Daily Summary_6</th>\n",
       "    </tr>\n",
       "  </thead>\n",
       "  <tbody>\n",
       "    <tr>\n",
       "      <th>0</th>\n",
       "      <td>0.0</td>\n",
       "      <td>0.0</td>\n",
       "      <td>0.0</td>\n",
       "      <td>0.0</td>\n",
       "      <td>0.0</td>\n",
       "      <td>0.0</td>\n",
       "      <td>0.0</td>\n",
       "      <td>0.0</td>\n",
       "      <td>0.0</td>\n",
       "      <td>0.502596</td>\n",
       "      <td>0.754875</td>\n",
       "      <td>0.420193</td>\n",
       "      <td>0.926</td>\n",
       "      <td>1.0</td>\n",
       "      <td>0.880240</td>\n",
       "      <td>0.609138</td>\n",
       "      <td>0.650762</td>\n",
       "      <td>0.0</td>\n",
       "      <td>0.0</td>\n",
       "      <td>1.0</td>\n",
       "      <td>1.0</td>\n",
       "    </tr>\n",
       "    <tr>\n",
       "      <th>1</th>\n",
       "      <td>0.0</td>\n",
       "      <td>0.0</td>\n",
       "      <td>0.0</td>\n",
       "      <td>0.0</td>\n",
       "      <td>0.0</td>\n",
       "      <td>0.0</td>\n",
       "      <td>0.0</td>\n",
       "      <td>0.0</td>\n",
       "      <td>1.0</td>\n",
       "      <td>0.384290</td>\n",
       "      <td>0.058496</td>\n",
       "      <td>0.526602</td>\n",
       "      <td>0.039</td>\n",
       "      <td>0.0</td>\n",
       "      <td>0.952096</td>\n",
       "      <td>0.386068</td>\n",
       "      <td>0.396682</td>\n",
       "      <td>1.0</td>\n",
       "      <td>1.0</td>\n",
       "      <td>0.0</td>\n",
       "      <td>0.0</td>\n",
       "    </tr>\n",
       "    <tr>\n",
       "      <th>2</th>\n",
       "      <td>0.0</td>\n",
       "      <td>0.0</td>\n",
       "      <td>0.0</td>\n",
       "      <td>0.0</td>\n",
       "      <td>0.0</td>\n",
       "      <td>0.0</td>\n",
       "      <td>0.0</td>\n",
       "      <td>0.0</td>\n",
       "      <td>0.0</td>\n",
       "      <td>0.376093</td>\n",
       "      <td>0.866295</td>\n",
       "      <td>1.000000</td>\n",
       "      <td>0.943</td>\n",
       "      <td>1.0</td>\n",
       "      <td>0.473054</td>\n",
       "      <td>0.531748</td>\n",
       "      <td>0.579821</td>\n",
       "      <td>0.0</td>\n",
       "      <td>0.0</td>\n",
       "      <td>1.0</td>\n",
       "      <td>1.0</td>\n",
       "    </tr>\n",
       "    <tr>\n",
       "      <th>3</th>\n",
       "      <td>0.0</td>\n",
       "      <td>0.0</td>\n",
       "      <td>0.0</td>\n",
       "      <td>0.0</td>\n",
       "      <td>0.0</td>\n",
       "      <td>0.0</td>\n",
       "      <td>0.0</td>\n",
       "      <td>0.0</td>\n",
       "      <td>0.0</td>\n",
       "      <td>0.000000</td>\n",
       "      <td>0.919220</td>\n",
       "      <td>0.181378</td>\n",
       "      <td>0.620</td>\n",
       "      <td>0.0</td>\n",
       "      <td>0.964072</td>\n",
       "      <td>0.610312</td>\n",
       "      <td>0.651839</td>\n",
       "      <td>0.0</td>\n",
       "      <td>1.0</td>\n",
       "      <td>1.0</td>\n",
       "      <td>1.0</td>\n",
       "    </tr>\n",
       "    <tr>\n",
       "      <th>4</th>\n",
       "      <td>0.0</td>\n",
       "      <td>0.0</td>\n",
       "      <td>0.0</td>\n",
       "      <td>0.0</td>\n",
       "      <td>0.0</td>\n",
       "      <td>0.0</td>\n",
       "      <td>0.0</td>\n",
       "      <td>0.0</td>\n",
       "      <td>1.0</td>\n",
       "      <td>0.480464</td>\n",
       "      <td>0.314763</td>\n",
       "      <td>0.231560</td>\n",
       "      <td>0.890</td>\n",
       "      <td>0.0</td>\n",
       "      <td>0.772455</td>\n",
       "      <td>0.561100</td>\n",
       "      <td>0.606726</td>\n",
       "      <td>0.0</td>\n",
       "      <td>0.0</td>\n",
       "      <td>1.0</td>\n",
       "      <td>1.0</td>\n",
       "    </tr>\n",
       "  </tbody>\n",
       "</table>\n",
       "</div>"
      ],
      "text/plain": [
       "   Summary_0  Summary_2  Daily Summary_3  Daily Summary_1  Daily Summary_0  \\\n",
       "0        0.0        0.0              0.0              0.0              0.0   \n",
       "1        0.0        0.0              0.0              0.0              0.0   \n",
       "2        0.0        0.0              0.0              0.0              0.0   \n",
       "3        0.0        0.0              0.0              0.0              0.0   \n",
       "4        0.0        0.0              0.0              0.0              0.0   \n",
       "\n",
       "   Precip Type_1  Summary_1  Daily Summary_2  Daily Summary_7  \\\n",
       "0            0.0        0.0              0.0              0.0   \n",
       "1            0.0        0.0              0.0              1.0   \n",
       "2            0.0        0.0              0.0              0.0   \n",
       "3            0.0        0.0              0.0              0.0   \n",
       "4            0.0        0.0              0.0              1.0   \n",
       "\n",
       "   Pressure (millibars)  Wind Bearing (degrees)  Wind Speed (km/h)  \\\n",
       "0              0.502596                0.754875           0.420193   \n",
       "1              0.384290                0.058496           0.526602   \n",
       "2              0.376093                0.866295           1.000000   \n",
       "3              0.000000                0.919220           0.181378   \n",
       "4              0.480464                0.314763           0.231560   \n",
       "\n",
       "   Visibility (km)  Summary_4  Humidity  Temperature (C)  \\\n",
       "0            0.926        1.0  0.880240         0.609138   \n",
       "1            0.039        0.0  0.952096         0.386068   \n",
       "2            0.943        1.0  0.473054         0.531748   \n",
       "3            0.620        0.0  0.964072         0.610312   \n",
       "4            0.890        0.0  0.772455         0.561100   \n",
       "\n",
       "   Apparent Temperature (C)  Daily Summary_4  Daily Summary_5  Summary_3  \\\n",
       "0                  0.650762              0.0              0.0        1.0   \n",
       "1                  0.396682              1.0              1.0        0.0   \n",
       "2                  0.579821              0.0              0.0        1.0   \n",
       "3                  0.651839              0.0              1.0        1.0   \n",
       "4                  0.606726              0.0              0.0        1.0   \n",
       "\n",
       "   Daily Summary_6  \n",
       "0              1.0  \n",
       "1              0.0  \n",
       "2              1.0  \n",
       "3              1.0  \n",
       "4              1.0  "
      ]
     },
     "execution_count": 26,
     "metadata": {},
     "output_type": "execute_result"
    }
   ],
   "source": [
    "final_train_data.head(5)"
   ]
  },
  {
   "cell_type": "markdown",
   "metadata": {},
   "source": [
    "## `04 ` Split Data into dependent cols and response col (X, Y)"
   ]
  },
  {
   "cell_type": "code",
   "execution_count": 27,
   "metadata": {},
   "outputs": [
    {
     "name": "stdout",
     "output_type": "stream",
     "text": [
      "X_train shape : (76729, 20), Y_train shape : (76729, 1)\n",
      "X_test shape : (19183, 20), Y_test shape : (19183, 1)\n"
     ]
    }
   ],
   "source": [
    "Y_train = final_train_data[['Apparent Temperature (C)']]\n",
    "X_train = final_train_data.loc[:, final_train_data.columns!='Apparent Temperature (C)']\n",
    "\n",
    "print(f'X_train shape : {X_train.shape}, Y_train shape : {Y_train.shape}')\n",
    "\n",
    "X_test = final_test_data.loc[:, final_test_data.columns!='Apparent Temperature (C)']\n",
    "Y_test = final_test_data[['Apparent Temperature (C)']]\n",
    "\n",
    "print(f'X_test shape : {X_test.shape}, Y_test shape : {Y_test.shape}')\n",
    "\n"
   ]
  },
  {
   "cell_type": "markdown",
   "metadata": {},
   "source": [
    "## `05`  Finaaaaaaaaaaaaaaaaaaaaaaaaaaaaaaally Training The Model :D "
   ]
  },
  {
   "cell_type": "markdown",
   "metadata": {
    "id": "zhqKVilygw1K"
   },
   "source": [
    "### Evaluating our linear regression model functions"
   ]
  },
  {
   "cell_type": "code",
   "execution_count": 28,
   "metadata": {
    "id": "Vw91dp_YgxA8"
   },
   "outputs": [],
   "source": [
    "def mse(actual, predicted):\n",
    "  return np.mean(np.square(actual-predicted))\n",
    "\n",
    "def rmse(actual, predicted):\n",
    "  return np.sqrt(np.mean(np.square(actual-predicted)))\n",
    "\n",
    "def mae(actual, predicted):\n",
    "  return np.mean(np.abs(actual-predicted))\n",
    "\n",
    "def mape(actual, predicted, epsilon = 0.0001):\n",
    "  return np.mean(np.abs((actual - predicted) / (actual + epsilon))) * 100\n",
    "\n",
    "def rae(actual, predicted):\n",
    "  numerator = np.sum(np.abs(predicted - actual))\n",
    "  denominator = np.sum(np.abs(np.mean(actual) - actual))\n",
    "  return numerator / denominator\n",
    "\n",
    "def r_squared(actual, predicted):\n",
    "  sse = np.sum(np.square(actual-predicted))\n",
    "  sst = np.sum(np.square(actual-np.mean(actual)))\n",
    "  return 1 - (sse/sst)\n",
    "\n",
    "def adj_r_squared(X, actual, predicted): \n",
    "  r_squ = r_squared(actual, predicted)\n",
    "  first_term = 1 - r_squ\n",
    "  sec_term = (len(actual)-1)/(len(actual) - X.shape[1] - 1)\n",
    "  return 1 - (first_term * sec_term)\n",
    "\n",
    "def Evaluation_report (X_train, Y_train, y_train_pred, X_test, Y_test, y_test_pred):\n",
    "  print('               :  Train Data     |   Test Data ')\n",
    "  print('mse            : ', mse(Y_train, y_train_pred).to_string(index=False), '  | ', mse(Y_test, y_test_pred).to_string(index=False))\n",
    "  print('rmse           : ', rmse(Y_train, y_train_pred).to_string(index=False), '  | ', rmse(Y_test, y_test_pred).to_string(index=False))\n",
    "  print('mae            : ', mae(Y_train, y_train_pred).to_string(index=False), '  | ',  mae(Y_test, y_test_pred).to_string(index=False))\n",
    "  print('mape           : ', mape(Y_train, y_train_pred).to_string(index=False), '  | ', mape(Y_test, y_test_pred).to_string(index=False))\n",
    "  print('rae            : ', rae(Y_train, y_train_pred).to_string(index=False), '  | ', rae(Y_test, y_test_pred).to_string(index=False))\n",
    "  print('r_squared      : ', r_squared(Y_train, y_train_pred).to_string(index=False), '  | ', r_squared(Y_test, y_test_pred).to_string(index=False))\n",
    "  print('adj_r_squared  : ', adj_r_squared(X_train, Y_train, y_train_pred).to_string(index=False), '  | ', adj_r_squared(X_test, Y_test, y_test_pred).to_string(index=False))\n"
   ]
  },
  {
   "cell_type": "markdown",
   "metadata": {
    "id": "G43a3amPUnZr"
   },
   "source": [
    "## `05` Support Vector Regressor Kernals VS Linear Regression\n"
   ]
  },
  {
   "cell_type": "markdown",
   "metadata": {},
   "source": [
    "## `01` Linear Kernal SVM   VS  Linear Regression"
   ]
  },
  {
   "cell_type": "code",
   "execution_count": 72,
   "metadata": {},
   "outputs": [
    {
     "name": "stdout",
     "output_type": "stream",
     "text": [
      "Best hyper_parameters for Linear kernal is :  {'C': 1, 'kernel': 'linear'}\n",
      "Best Score for Linear kernal is :  0.973005810483376\n"
     ]
    }
   ],
   "source": [
    "from sklearn.model_selection import GridSearchCV\n",
    " \n",
    "# defining parameter range\n",
    "param_grid = {'C': [0.01, 0.1, 1, 10],\n",
    "              'kernel': ['linear']}\n",
    " \n",
    "grid = GridSearchCV(SVR(), param_grid, cv = 3)\n",
    " \n",
    "# fitting the model for grid search\n",
    "grid.fit(X_train, Y_train.values.ravel())\n",
    "print(\"Best hyper_parameters for Linear kernal is : \", grid.best_params_)\n",
    "print(\"Best Score for Linear kernal is : \", grid.best_score_)"
   ]
  },
  {
   "cell_type": "markdown",
   "metadata": {},
   "source": [
    "### Linear Kernal SVM "
   ]
  },
  {
   "cell_type": "code",
   "execution_count": 73,
   "metadata": {},
   "outputs": [
    {
     "name": "stdout",
     "output_type": "stream",
     "text": [
      "               :  Train Data     |   Test Data \n",
      "mse            :   0.000756   |   0.000771\n",
      "rmse           :   0.027491   |   0.027759\n",
      "mae            :   0.022123   |   0.022289\n",
      "mape           :   21.2733   |   26.108419\n",
      "rae            :   0.151777   |   0.152886\n",
      "r_squared      :   0.974715   |   0.974366\n",
      "adj_r_squared  :   0.974708   |   0.97434\n"
     ]
    }
   ],
   "source": [
    "svr_sklearn  = SVR(kernel = 'linear', C = 1)\n",
    "fitted_SVR_Sklearn = svr_sklearn.fit(X_train.values, Y_train.values.ravel())\n",
    "SVR_y_train_pred = fitted_SVR_Sklearn.predict(X_train.values).reshape(-1, 1)\n",
    "SVR_y_test_pred = fitted_SVR_Sklearn.predict(X_test.values).reshape(-1,1)\n",
    "\n",
    "Evaluation_report (X_train, Y_train, SVR_y_train_pred, X_test, Y_test, SVR_y_test_pred)\n"
   ]
  },
  {
   "cell_type": "markdown",
   "metadata": {},
   "source": [
    "### Linear regression \n",
    "\n",
    "\n",
    " "
   ]
  },
  {
   "cell_type": "code",
   "execution_count": 74,
   "metadata": {},
   "outputs": [
    {
     "name": "stdout",
     "output_type": "stream",
     "text": [
      "               :  Train Data     |   Test Data \n",
      "mse            :   0.000297   |   0.000297\n",
      "rmse           :   0.017231   |   0.017221\n",
      "mae            :   0.013624   |   0.013629\n",
      "mape           :   8.888024   |   10.855342\n",
      "rae            :   0.093469   |   0.093483\n",
      "r_squared      :   0.990066   |   0.990135\n",
      "adj_r_squared  :   0.990064   |   0.990125\n"
     ]
    }
   ],
   "source": [
    "reg = LinearRegression().fit(X_train.values, Y_train.values)\n",
    "y_train_pred = reg.predict(X_train.values)\n",
    "y_test_pred = reg.predict(X_test.values)\n",
    "\n",
    "Evaluation_report (X_train, Y_train, y_train_pred, X_test, Y_test, y_test_pred)\n"
   ]
  },
  {
   "cell_type": "markdown",
   "metadata": {},
   "source": [
    "## `02` Polynomial Kernal SVM VS Polynomial Regression"
   ]
  },
  {
   "cell_type": "markdown",
   "metadata": {},
   "source": [
    "### Polynomial Kernal SVM"
   ]
  },
  {
   "cell_type": "code",
   "execution_count": 30,
   "metadata": {},
   "outputs": [
    {
     "name": "stdout",
     "output_type": "stream",
     "text": [
      "Best hyper_parameters for rbf is :  {'C': 1, 'degree': 2, 'gamma': 0.1, 'kernel': 'poly'}\n"
     ]
    }
   ],
   "source": [
    "from sklearn.model_selection import GridSearchCV\n",
    " \n",
    "# defining parameter range\n",
    "param_grid = {'C': [0.01, 0.1, 1],\n",
    "              'gamma': [0.01, 0.1, 1],\n",
    "              'degree': [2],\n",
    "              'kernel': ['poly']}\n",
    " \n",
    "grid = GridSearchCV(SVR(), param_grid)\n",
    " \n",
    "# fitting the model for grid search\n",
    "grid.fit(X_train, Y_train.values.ravel())\n",
    "print(\"Best hyper_parameters for rbf is : \", grid.best_params_)"
   ]
  },
  {
   "cell_type": "code",
   "execution_count": 31,
   "metadata": {},
   "outputs": [
    {
     "name": "stdout",
     "output_type": "stream",
     "text": [
      "               :  Train Data     |   Test Data \n",
      "mse            :   0.00091   |   0.000923\n",
      "rmse           :   0.03016   |   0.030375\n",
      "mae            :   0.023882   |   0.023989\n",
      "mape           :   24.757871   |   40.216273\n",
      "rae            :   0.163846   |   0.164546\n",
      "r_squared      :   0.969567   |   0.969308\n",
      "adj_r_squared  :   0.969559   |   0.969276\n"
     ]
    }
   ],
   "source": [
    "svr_sklearn  = SVR(kernel = 'poly', C = 1, gamma= 0.1, degree = 2)\n",
    "fitted_SVR_Sklearn = svr_sklearn.fit(X_train.values, Y_train.values.ravel())\n",
    "SVR_y_train_pred = fitted_SVR_Sklearn.predict(X_train.values).reshape(-1, 1)\n",
    "SVR_y_test_pred = fitted_SVR_Sklearn.predict(X_test.values).reshape(-1, 1)\n",
    "\n",
    "Evaluation_report (X_train, Y_train, SVR_y_train_pred, X_test, Y_test, SVR_y_test_pred)\n"
   ]
  },
  {
   "cell_type": "markdown",
   "metadata": {},
   "source": [
    "### Polynomial Regression"
   ]
  },
  {
   "cell_type": "code",
   "execution_count": 75,
   "metadata": {},
   "outputs": [
    {
     "name": "stdout",
     "output_type": "stream",
     "text": [
      "               :  Train Data     |   Test Data \n",
      "mse            :   0.000101   |   0.000103\n",
      "rmse           :   0.010039   |   0.010141\n",
      "mae            :   0.007319   |   0.00739\n",
      "mape           :   7.660485   |   7.651668\n",
      "rae            :   0.050211   |   0.050693\n",
      "r_squared      :   0.996628   |   0.996579\n",
      "adj_r_squared  :   0.996627   |   0.996575\n"
     ]
    }
   ],
   "source": [
    "poly = PolynomialFeatures(degree = 2)\n",
    "X_poly_train = poly.fit_transform(X_train.values)\n",
    "X_poly_test = poly.transform(X_test.values)\n",
    "\n",
    "poly_feats_linear_reg = LinearRegression()\n",
    "poly_feats_linear_reg.fit(X_poly_train, Y_train)\n",
    "poly_trian_preds = poly_feats_linear_reg.predict(X_poly_train)\n",
    "poly_test_preds = poly_feats_linear_reg.predict(X_poly_test)\n",
    "Evaluation_report (X_train, Y_train, poly_trian_preds, X_test, Y_test, poly_test_preds)\n",
    "\n"
   ]
  },
  {
   "cell_type": "markdown",
   "metadata": {},
   "source": [
    "## `03` RBF Kernal SVM"
   ]
  },
  {
   "cell_type": "code",
   "execution_count": 76,
   "metadata": {},
   "outputs": [
    {
     "name": "stdout",
     "output_type": "stream",
     "text": [
      "Best hyper_parameters for rbf is :  {'C': 1, 'gamma': 0.1, 'kernel': 'rbf'}\n",
      "Best Score for rbf is :  0.9584006453368671\n"
     ]
    }
   ],
   "source": [
    "from sklearn.model_selection import GridSearchCV\n",
    " \n",
    "# defining parameter range\n",
    "param_grid = {'C': [0.01, 0.1, 1],\n",
    "              'gamma': [0.01, 0.1, 1],\n",
    "              'kernel': ['rbf']}\n",
    " \n",
    "grid = GridSearchCV(SVR(), param_grid, cv = 3)\n",
    " \n",
    "# fitting the model for grid search\n",
    "grid.fit(X_train.values,  Y_train.values.ravel())\n",
    "print(\"Best hyper_parameters for rbf is : \", grid.best_params_)\n",
    "print(\"Best Score for rbf is : \", grid.best_score_)"
   ]
  },
  {
   "cell_type": "code",
   "execution_count": 29,
   "metadata": {},
   "outputs": [
    {
     "name": "stdout",
     "output_type": "stream",
     "text": [
      "               :  Train Data     |   Test Data \n",
      "mse            :   0.001177   |   0.001186\n",
      "rmse           :   0.034311   |   0.034434\n",
      "mae            :   0.028434   |   0.028458\n",
      "mape           :   24.845027   |   32.438302\n",
      "rae            :   0.195071   |   0.195198\n",
      "r_squared      :   0.960614   |   0.960556\n",
      "adj_r_squared  :   0.960603   |   0.960515\n"
     ]
    }
   ],
   "source": [
    "svr_sklearn  = SVR(kernel = 'rbf', C = 1, gamma= 0.1)\n",
    "fitted_SVR_Sklearn = svr_sklearn.fit(X_train.values, Y_train.values.ravel())\n",
    "SVR_y_train_pred = fitted_SVR_Sklearn.predict(X_train.values).reshape(-1, 1)\n",
    "SVR_y_test_pred = fitted_SVR_Sklearn.predict(X_test.values).reshape(-1, 1)\n",
    "\n",
    "Evaluation_report (X_train, Y_train, SVR_y_train_pred, X_test, Y_test, SVR_y_test_pred)\n"
   ]
  }
 ],
 "metadata": {
  "interpreter": {
   "hash": "6456470966aacefa388c68c9fe7d64bbc7d9820ea7c6886760c09cd5181e254c"
  },
  "kernelspec": {
   "display_name": "Python 3.8.5 ('base')",
   "language": "python",
   "name": "python3"
  },
  "language_info": {
   "codemirror_mode": {
    "name": "ipython",
    "version": 3
   },
   "file_extension": ".py",
   "mimetype": "text/x-python",
   "name": "python",
   "nbconvert_exporter": "python",
   "pygments_lexer": "ipython3",
   "version": "3.8.5"
  },
  "orig_nbformat": 4
 },
 "nbformat": 4,
 "nbformat_minor": 2
}
