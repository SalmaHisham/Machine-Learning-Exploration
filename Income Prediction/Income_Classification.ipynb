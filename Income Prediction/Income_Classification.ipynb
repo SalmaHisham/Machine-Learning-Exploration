{
 "cells": [
  {
   "cell_type": "markdown",
   "metadata": {},
   "source": [
    "# KNN and Tree_based Algorithms "
   ]
  },
  {
   "cell_type": "markdown",
   "metadata": {},
   "source": [
    "## `00 ` Import libraries "
   ]
  },
  {
   "cell_type": "code",
   "execution_count": 213,
   "metadata": {},
   "outputs": [],
   "source": [
    "import numpy as np\n",
    "import pandas as pd\n",
    "# visulaization\n",
    "import matplotlib.pyplot as plt\n",
    "import seaborn as sns\n",
    "#for Normalization\n",
    "from sklearn.preprocessing import MinMaxScaler, RobustScaler, StandardScaler, Normalizer\n",
    "#check normality\n",
    "from scipy.stats import shapiro\n",
    "#handling categorical feature\n",
    "from sklearn.preprocessing import LabelEncoder, OneHotEncoder, OrdinalEncoder\n",
    "#spliting data\n",
    "from sklearn.model_selection import train_test_split\n",
    "#evaluating models\n",
    "from sklearn.metrics import f1_score, classification_report\n",
    "#models\n",
    "from sklearn.neighbors import KNeighborsClassifier\n",
    "from sklearn.tree import DecisionTreeClassifier\n",
    "from sklearn.ensemble import RandomForestClassifier\n",
    "\n",
    "from sklearn.model_selection import GridSearchCV\n",
    "from sklearn.metrics import make_scorer\n",
    "\n",
    "pd.set_option('display.max_columns', None)\n"
   ]
  },
  {
   "cell_type": "code",
   "execution_count": 214,
   "metadata": {},
   "outputs": [
    {
     "data": {
      "text/html": [
       "<div>\n",
       "<style scoped>\n",
       "    .dataframe tbody tr th:only-of-type {\n",
       "        vertical-align: middle;\n",
       "    }\n",
       "\n",
       "    .dataframe tbody tr th {\n",
       "        vertical-align: top;\n",
       "    }\n",
       "\n",
       "    .dataframe thead th {\n",
       "        text-align: right;\n",
       "    }\n",
       "</style>\n",
       "<table border=\"1\" class=\"dataframe\">\n",
       "  <thead>\n",
       "    <tr style=\"text-align: right;\">\n",
       "      <th></th>\n",
       "      <th>age</th>\n",
       "      <th>workclass</th>\n",
       "      <th>fnlwgt</th>\n",
       "      <th>education</th>\n",
       "      <th>education.num</th>\n",
       "      <th>marital.status</th>\n",
       "      <th>occupation</th>\n",
       "      <th>relationship</th>\n",
       "      <th>race</th>\n",
       "      <th>sex</th>\n",
       "      <th>capital.gain</th>\n",
       "      <th>capital.loss</th>\n",
       "      <th>hours.per.week</th>\n",
       "      <th>native.country</th>\n",
       "      <th>income</th>\n",
       "    </tr>\n",
       "  </thead>\n",
       "  <tbody>\n",
       "    <tr>\n",
       "      <th>0</th>\n",
       "      <td>90</td>\n",
       "      <td>NaN</td>\n",
       "      <td>77053</td>\n",
       "      <td>HS-grad</td>\n",
       "      <td>9</td>\n",
       "      <td>Widowed</td>\n",
       "      <td>NaN</td>\n",
       "      <td>Not-in-family</td>\n",
       "      <td>White</td>\n",
       "      <td>Female</td>\n",
       "      <td>0</td>\n",
       "      <td>4356</td>\n",
       "      <td>40</td>\n",
       "      <td>United-States</td>\n",
       "      <td>&lt;=50K</td>\n",
       "    </tr>\n",
       "    <tr>\n",
       "      <th>1</th>\n",
       "      <td>82</td>\n",
       "      <td>Private</td>\n",
       "      <td>132870</td>\n",
       "      <td>HS-grad</td>\n",
       "      <td>9</td>\n",
       "      <td>Widowed</td>\n",
       "      <td>Exec-managerial</td>\n",
       "      <td>Not-in-family</td>\n",
       "      <td>White</td>\n",
       "      <td>Female</td>\n",
       "      <td>0</td>\n",
       "      <td>4356</td>\n",
       "      <td>18</td>\n",
       "      <td>United-States</td>\n",
       "      <td>&lt;=50K</td>\n",
       "    </tr>\n",
       "    <tr>\n",
       "      <th>2</th>\n",
       "      <td>66</td>\n",
       "      <td>NaN</td>\n",
       "      <td>186061</td>\n",
       "      <td>Some-college</td>\n",
       "      <td>10</td>\n",
       "      <td>Widowed</td>\n",
       "      <td>NaN</td>\n",
       "      <td>Unmarried</td>\n",
       "      <td>Black</td>\n",
       "      <td>Female</td>\n",
       "      <td>0</td>\n",
       "      <td>4356</td>\n",
       "      <td>40</td>\n",
       "      <td>United-States</td>\n",
       "      <td>&lt;=50K</td>\n",
       "    </tr>\n",
       "    <tr>\n",
       "      <th>3</th>\n",
       "      <td>54</td>\n",
       "      <td>Private</td>\n",
       "      <td>140359</td>\n",
       "      <td>7th-8th</td>\n",
       "      <td>4</td>\n",
       "      <td>Divorced</td>\n",
       "      <td>Machine-op-inspct</td>\n",
       "      <td>Unmarried</td>\n",
       "      <td>White</td>\n",
       "      <td>Female</td>\n",
       "      <td>0</td>\n",
       "      <td>3900</td>\n",
       "      <td>40</td>\n",
       "      <td>United-States</td>\n",
       "      <td>&lt;=50K</td>\n",
       "    </tr>\n",
       "    <tr>\n",
       "      <th>4</th>\n",
       "      <td>41</td>\n",
       "      <td>Private</td>\n",
       "      <td>264663</td>\n",
       "      <td>Some-college</td>\n",
       "      <td>10</td>\n",
       "      <td>Separated</td>\n",
       "      <td>Prof-specialty</td>\n",
       "      <td>Own-child</td>\n",
       "      <td>White</td>\n",
       "      <td>Female</td>\n",
       "      <td>0</td>\n",
       "      <td>3900</td>\n",
       "      <td>40</td>\n",
       "      <td>United-States</td>\n",
       "      <td>&lt;=50K</td>\n",
       "    </tr>\n",
       "  </tbody>\n",
       "</table>\n",
       "</div>"
      ],
      "text/plain": [
       "   age workclass  fnlwgt     education  education.num marital.status  \\\n",
       "0   90       NaN   77053       HS-grad              9        Widowed   \n",
       "1   82   Private  132870       HS-grad              9        Widowed   \n",
       "2   66       NaN  186061  Some-college             10        Widowed   \n",
       "3   54   Private  140359       7th-8th              4       Divorced   \n",
       "4   41   Private  264663  Some-college             10      Separated   \n",
       "\n",
       "          occupation   relationship   race     sex  capital.gain  \\\n",
       "0                NaN  Not-in-family  White  Female             0   \n",
       "1    Exec-managerial  Not-in-family  White  Female             0   \n",
       "2                NaN      Unmarried  Black  Female             0   \n",
       "3  Machine-op-inspct      Unmarried  White  Female             0   \n",
       "4     Prof-specialty      Own-child  White  Female             0   \n",
       "\n",
       "   capital.loss  hours.per.week native.country income  \n",
       "0          4356              40  United-States  <=50K  \n",
       "1          4356              18  United-States  <=50K  \n",
       "2          4356              40  United-States  <=50K  \n",
       "3          3900              40  United-States  <=50K  \n",
       "4          3900              40  United-States  <=50K  "
      ]
     },
     "execution_count": 214,
     "metadata": {},
     "output_type": "execute_result"
    }
   ],
   "source": [
    "df = pd.read_csv(\"adult.csv\", na_values= '?')\n",
    "df.head(5)"
   ]
  },
  {
   "cell_type": "markdown",
   "metadata": {},
   "source": [
    "## `01 ` Split Data "
   ]
  },
  {
   "cell_type": "code",
   "execution_count": 215,
   "metadata": {
    "id": "XvmNIqClH_en"
   },
   "outputs": [],
   "source": [
    "from sklearn.model_selection import train_test_split\n",
    "train_data, validation_data = train_test_split(df, test_size = 0.2, random_state = 42)"
   ]
  },
  {
   "cell_type": "code",
   "execution_count": 216,
   "metadata": {
    "id": "Plh3FPK4JyN-"
   },
   "outputs": [],
   "source": [
    "## separating the categorical features and numerical features\n",
    "num_cols = list(set(df.select_dtypes(exclude=[object]).columns))\n",
    "cat_cols = list(df.select_dtypes(include=[object]).columns) \n"
   ]
  },
  {
   "cell_type": "markdown",
   "metadata": {},
   "source": [
    "## `02` EDA"
   ]
  },
  {
   "cell_type": "code",
   "execution_count": 217,
   "metadata": {},
   "outputs": [
    {
     "name": "stdout",
     "output_type": "stream",
     "text": [
      "<class 'pandas.core.frame.DataFrame'>\n",
      "Int64Index: 26048 entries, 5514 to 23654\n",
      "Data columns (total 15 columns):\n",
      " #   Column          Non-Null Count  Dtype \n",
      "---  ------          --------------  ----- \n",
      " 0   age             26048 non-null  int64 \n",
      " 1   workclass       24612 non-null  object\n",
      " 2   fnlwgt          26048 non-null  int64 \n",
      " 3   education       26048 non-null  object\n",
      " 4   education.num   26048 non-null  int64 \n",
      " 5   marital.status  26048 non-null  object\n",
      " 6   occupation      24606 non-null  object\n",
      " 7   relationship    26048 non-null  object\n",
      " 8   race            26048 non-null  object\n",
      " 9   sex             26048 non-null  object\n",
      " 10  capital.gain    26048 non-null  int64 \n",
      " 11  capital.loss    26048 non-null  int64 \n",
      " 12  hours.per.week  26048 non-null  int64 \n",
      " 13  native.country  25574 non-null  object\n",
      " 14  income          26048 non-null  object\n",
      "dtypes: int64(6), object(9)\n",
      "memory usage: 3.2+ MB\n"
     ]
    }
   ],
   "source": [
    "train_data.info()"
   ]
  },
  {
   "cell_type": "markdown",
   "metadata": {},
   "source": [
    "### `2.1` Check Normality"
   ]
  },
  {
   "cell_type": "code",
   "execution_count": 218,
   "metadata": {},
   "outputs": [
    {
     "data": {
      "image/png": "[encoded data removed]",
      "text/plain": [
       "<Figure size 1080x720 with 6 Axes>"
      ]
     },
     "metadata": {
      "needs_background": "light"
     },
     "output_type": "display_data"
    }
   ],
   "source": [
    "plt.figure(figsize=(15,10))\n",
    "for i, col in enumerate(train_data[num_cols]):\n",
    "    ax = plt.subplot(3, 3, i+1)\n",
    "    sns.histplot(train_data[col], ax=ax)\n",
    "plt.show()"
   ]
  },
  {
   "cell_type": "markdown",
   "metadata": {},
   "source": [
    "### `2.2` Check Nulls"
   ]
  },
  {
   "cell_type": "code",
   "execution_count": 219,
   "metadata": {},
   "outputs": [
    {
     "data": {
      "text/html": [
       "<div>\n",
       "<style scoped>\n",
       "    .dataframe tbody tr th:only-of-type {\n",
       "        vertical-align: middle;\n",
       "    }\n",
       "\n",
       "    .dataframe tbody tr th {\n",
       "        vertical-align: top;\n",
       "    }\n",
       "\n",
       "    .dataframe thead th {\n",
       "        text-align: right;\n",
       "    }\n",
       "</style>\n",
       "<table border=\"1\" class=\"dataframe\">\n",
       "  <thead>\n",
       "    <tr style=\"text-align: right;\">\n",
       "      <th></th>\n",
       "      <th>index</th>\n",
       "      <th>Nulls_Count</th>\n",
       "    </tr>\n",
       "  </thead>\n",
       "  <tbody>\n",
       "    <tr>\n",
       "      <th>0</th>\n",
       "      <td>occupation</td>\n",
       "      <td>5.535934</td>\n",
       "    </tr>\n",
       "    <tr>\n",
       "      <th>1</th>\n",
       "      <td>workclass</td>\n",
       "      <td>5.512899</td>\n",
       "    </tr>\n",
       "    <tr>\n",
       "      <th>2</th>\n",
       "      <td>native.country</td>\n",
       "      <td>1.819717</td>\n",
       "    </tr>\n",
       "  </tbody>\n",
       "</table>\n",
       "</div>"
      ],
      "text/plain": [
       "            index  Nulls_Count\n",
       "0      occupation     5.535934\n",
       "1       workclass     5.512899\n",
       "2  native.country     1.819717"
      ]
     },
     "execution_count": 219,
     "metadata": {},
     "output_type": "execute_result"
    }
   ],
   "source": [
    "nulls_df = ((train_data.isnull().sum()/train_data.shape[0])*100).sort_values(ascending=False).reset_index().rename(columns = { 0 : \"Nulls_Count\"})\n",
    "nulls_df[nulls_df['Nulls_Count'] > 0]"
   ]
  },
  {
   "cell_type": "markdown",
   "metadata": {},
   "source": [
    "### `2.3` Check Duplicates"
   ]
  },
  {
   "cell_type": "code",
   "execution_count": 220,
   "metadata": {},
   "outputs": [
    {
     "data": {
      "text/plain": [
       "24"
      ]
     },
     "execution_count": 220,
     "metadata": {},
     "output_type": "execute_result"
    }
   ],
   "source": [
    "#check Duplicates\n",
    "df.duplicated().sum()"
   ]
  },
  {
   "cell_type": "markdown",
   "metadata": {},
   "source": [
    "### `2.4` Check Outliers"
   ]
  },
  {
   "cell_type": "code",
   "execution_count": 221,
   "metadata": {},
   "outputs": [
    {
     "data": {
      "image/png": "[encoded data removed]",
      "text/plain": [
       "<Figure size 1080x720 with 6 Axes>"
      ]
     },
     "metadata": {
      "needs_background": "light"
     },
     "output_type": "display_data"
    }
   ],
   "source": [
    "#Check Outliers\n",
    "plt.figure(figsize=(15,10))\n",
    "for i, col in enumerate(train_data[num_cols]):\n",
    "    plt.subplot(3, 3, i+1)\n",
    "    sns.boxplot(x = train_data[col]) \n",
    "plt.show()\n"
   ]
  },
  {
   "cell_type": "markdown",
   "metadata": {},
   "source": [
    "### `2.5` Check Highly correlated features"
   ]
  },
  {
   "cell_type": "code",
   "execution_count": 222,
   "metadata": {},
   "outputs": [
    {
     "data": {
      "text/plain": [
       "<AxesSubplot:>"
      ]
     },
     "execution_count": 222,
     "metadata": {},
     "output_type": "execute_result"
    },
    {
     "data": {
      "image/png": "[encoded data removed]",
      "text/plain": [
       "<Figure size 720x360 with 2 Axes>"
      ]
     },
     "metadata": {
      "needs_background": "light"
     },
     "output_type": "display_data"
    }
   ],
   "source": [
    "# making a heatmap to inspect the highly correlated features\n",
    "import seaborn as sns\n",
    "corr_matrix = train_data[num_cols].corr()\n",
    "plt.subplots(figsize = (10, 5))\n",
    "sns.heatmap(corr_matrix, \n",
    "           xticklabels = corr_matrix.columns.values,\n",
    "           yticklabels = corr_matrix.columns.values, \n",
    "           linewidth = 0.1)"
   ]
  },
  {
   "cell_type": "markdown",
   "metadata": {},
   "source": [
    "### `2.6` Check Imbalanced "
   ]
  },
  {
   "cell_type": "code",
   "execution_count": 223,
   "metadata": {},
   "outputs": [
    {
     "data": {
      "text/plain": [
       "<=50K    19744\n",
       ">50K      6304\n",
       "Name: income, dtype: int64"
      ]
     },
     "execution_count": 223,
     "metadata": {},
     "output_type": "execute_result"
    }
   ],
   "source": [
    "train_data['income'].value_counts()"
   ]
  },
  {
   "cell_type": "markdown",
   "metadata": {},
   "source": [
    " \n",
    "> ### **Observations :**\n",
    ">\n",
    "> Data have : \n",
    "> 1. Nulls\n",
    "> 2. Duplicate values\n",
    "> 3. Skewness\n",
    "> 4. Outliers <br>\n",
    "> 5. Imbalanced   \n",
    "\n",
    "\n"
   ]
  },
  {
   "cell_type": "markdown",
   "metadata": {},
   "source": [
    "## `03` Data Preprocessing"
   ]
  },
  {
   "cell_type": "markdown",
   "metadata": {},
   "source": [
    "#### `3.1` Handling Nulls"
   ]
  },
  {
   "cell_type": "code",
   "execution_count": 224,
   "metadata": {},
   "outputs": [],
   "source": [
    "def handling_Nulls (df): \n",
    "    df = df.dropna(axis=0, subset=['native.country', 'occupation', 'workclass'])\n",
    "    df = df.drop(columns = ['fnlwgt'])\n",
    "    return df"
   ]
  },
  {
   "cell_type": "markdown",
   "metadata": {},
   "source": [
    "#### `3.2` Handling Outliers"
   ]
  },
  {
   "cell_type": "code",
   "execution_count": 225,
   "metadata": {},
   "outputs": [],
   "source": [
    "def bounds_calc(train_data, col, boundry_threshold):\n",
    "  Q1 = np.percentile(train_data[col], q = 25, interpolation = 'midpoint')\n",
    "  Q3 = np.percentile(train_data[col], q = 75, interpolation = 'midpoint')\n",
    "  IQR = Q3 - Q1\n",
    "  Upper_Bound = Q3 + boundry_threshold * IQR\n",
    "  Lower_Bound = Q1 - boundry_threshold * IQR\n",
    "  return Lower_Bound, Upper_Bound\n",
    "    \n",
    "def outliers_clamping(Lower_Bound, Upper_Bound, value):\n",
    "  if value > Upper_Bound:\n",
    "    return Upper_Bound\n",
    "  elif value < Lower_Bound:\n",
    "    return Lower_Bound\n",
    "  else:\n",
    "    return value\n",
    "\n",
    "def outliers_handling(train_data, validation_data, boundry_threshold):\n",
    "    num_data = list(set(train_data.select_dtypes(exclude=[object]).columns) - set(['Id', 'SalePrice']))\n",
    "    for col in num_data:\n",
    "        Lower_Bound, Upper_Bound = bounds_calc(train_data, col, boundry_threshold)\n",
    "        train_data[col] = train_data[col].apply(lambda x : outliers_clamping(Lower_Bound, Upper_Bound, x))\n",
    "        validation_data[col] = validation_data[col].apply(lambda x : outliers_clamping(Lower_Bound, Upper_Bound, x))\n",
    "    return train_data, validation_data\n"
   ]
  },
  {
   "cell_type": "markdown",
   "metadata": {},
   "source": [
    "#### `3.3` Handling Skewness"
   ]
  },
  {
   "cell_type": "code",
   "execution_count": 226,
   "metadata": {},
   "outputs": [],
   "source": [
    "def skewness_calc(col ,df):\n",
    "    std_col = np.std(df[col])\n",
    "    mean_col = np.mean(df[col])\n",
    "    size_rows = df.count()[0]\n",
    "    skewness = np.sum(np.power(df[col] - mean_col, 3))/((size_rows - 1) * np.power(std_col, 3))\n",
    "    return skewness\n",
    "\n",
    "def skewed_data_transformation(value):\n",
    "  return np.log(1 + np.abs(value))\n",
    "\n",
    "def skewness_handling(train_data, validation_data):\n",
    "    num_data = list(set(train_data.select_dtypes(exclude=[object]).columns) - set(['Id', 'SalePrice']))\n",
    "    skewed_train_cols = []\n",
    "    for col in num_data: \n",
    "        sk = skewness_calc(col, train_data)\n",
    "        if (np.abs(sk) >= 1):\n",
    "            skewed_train_cols.append(col)\n",
    "            train_data[col] = train_data[col].apply(lambda x : skewed_data_transformation(x))\n",
    "            validation_data[col] = validation_data[col].apply(lambda x : skewed_data_transformation(x))\n",
    "    return train_data, validation_data"
   ]
  },
  {
   "cell_type": "markdown",
   "metadata": {},
   "source": [
    "#### `3.4` Feature Scaling"
   ]
  },
  {
   "cell_type": "markdown",
   "metadata": {},
   "source": [
    "##### `3.6.1 ` Shapiro-Wilk(Normal Distribution) test"
   ]
  },
  {
   "cell_type": "code",
   "execution_count": 227,
   "metadata": {},
   "outputs": [],
   "source": [
    "def Shapiro_Wilk_test (df, num_cols, alpha):\n",
    "    feats_std_scale = []\n",
    "    feats_min_max_scale = []\n",
    "    sample_data  = train_data.sample(replace = False, n= 500)\n",
    "    for col in num_cols:\n",
    "        stat, p = shapiro(sample_data[col])\n",
    "        if p > alpha:\n",
    "            feats_std_scale.append(col)\n",
    "        else:\n",
    "            feats_min_max_scale.append(col)\n",
    "    return feats_min_max_scale, feats_std_scale"
   ]
  },
  {
   "cell_type": "markdown",
   "metadata": {},
   "source": [
    "##### `3.6.2 ` Scaling Features"
   ]
  },
  {
   "cell_type": "code",
   "execution_count": 228,
   "metadata": {},
   "outputs": [],
   "source": [
    "# brute force code , Don't forget to enhance ittttttt  ----------------->\n",
    "def scaling_features (train_data, validation_data, alpha):\n",
    "    num_data = list(set(train_data.select_dtypes(exclude=[object]).columns))\n",
    "    feats_min_max_scale, feats_std_scale = Shapiro_Wilk_test(train_data, num_data, alpha)\n",
    "    \n",
    "    if len(feats_std_scale) <= 0  :\n",
    "        min_max_scaler = MinMaxScaler()\n",
    "        min_max_scaler_model = min_max_scaler.fit(train_data[feats_min_max_scale])\n",
    "        min_max_scaled_train_data = pd.DataFrame(min_max_scaler_model.transform(train_data[feats_min_max_scale]), columns = feats_min_max_scale)\n",
    "        min_max_scaled_validation_data = pd.DataFrame(min_max_scaler_model.transform(validation_data[feats_min_max_scale]), columns = feats_min_max_scale)\n",
    "        num_train_data = min_max_scaled_train_data\n",
    "        num_validation_data = min_max_scaled_validation_data\n",
    "    elif len(feats_min_max_scale) <= 0 :\n",
    "        std_scaler = StandardScaler()\n",
    "        std_scaler_model = std_scaler.fit(train_data[feats_std_scale])\n",
    "        std_scaled_train_data = pd.DataFrame(std_scaler_model.transform(train_data[feats_std_scale]), columns = feats_std_scale)\n",
    "        std_scaled_validation_data = pd.DataFrame(std_scaler_model.transform(validation_data[feats_std_scale]), columns = feats_std_scale)\n",
    "        num_train_data = std_scaled_train_data\n",
    "        num_validation_data = std_scaled_validation_data\n",
    "    else : \n",
    "        min_max_scaler = MinMaxScaler()\n",
    "        min_max_scaler_model = min_max_scaler.fit(train_data[feats_min_max_scale])\n",
    "        min_max_scaled_train_data = pd.DataFrame(min_max_scaler_model.transform(train_data[feats_min_max_scale]), columns = feats_min_max_scale)\n",
    "        min_max_scaled_validation_data = pd.DataFrame(min_max_scaler_model.transform(validation_data[feats_min_max_scale]), columns = feats_min_max_scale)\n",
    "        \n",
    "        std_scaler = StandardScaler()\n",
    "        std_scaler_model = std_scaler.fit(train_data[feats_std_scale])\n",
    "        std_scaled_train_data = pd.DataFrame(std_scaler_model.transform(train_data[feats_std_scale]), columns = feats_std_scale)\n",
    "        std_scaled_validation_data = pd.DataFrame(std_scaler_model.transform(validation_data[feats_std_scale]), columns = feats_std_scale)\n",
    "        \n",
    "        num_train_data = std_scaled_train_data.merge(min_max_scaled_train_data, right_index = True, left_index = True)\n",
    "        num_validation_data = std_scaled_validation_data.merge(min_max_scaled_validation_data, right_index = True, left_index = True)\n",
    "        \n",
    "    print(\"features to be scaled with min max\",  feats_min_max_scale)\n",
    "    print(\"features to be scaled with standarization\",  feats_std_scale)\n",
    "    \n",
    "    return num_train_data, train_data['income'], num_validation_data, validation_data['income']"
   ]
  },
  {
   "cell_type": "markdown",
   "metadata": {},
   "source": [
    "#### `3.7` Handling Categorical Data & Merge"
   ]
  },
  {
   "cell_type": "code",
   "execution_count": 229,
   "metadata": {},
   "outputs": [],
   "source": [
    "nominal_cols = ['workclass', 'marital.status', 'occupation', 'relationship', 'race', 'sex', 'native.country']\n",
    "ordinal_cols = ['education', 'income']"
   ]
  },
  {
   "cell_type": "code",
   "execution_count": 230,
   "metadata": {},
   "outputs": [],
   "source": [
    "def handling_catecorical(df, ordinal_cols, nominal_cols):  \n",
    "    ordinal_train_df = pd.DataFrame()\n",
    "\n",
    "    for ordinal_feat in ordinal_cols:\n",
    "        label_enc_model = LabelEncoder().fit(df[ordinal_feat])\n",
    "        ordinal_train_df[ordinal_feat] = label_enc_model.transform(df[ordinal_feat])\n",
    "    \n",
    "    \n",
    "    one_hot_enc_model = OneHotEncoder(sparse = False).fit(df[nominal_cols])\n",
    "    nominal_train_data = one_hot_enc_model.transform(df[nominal_cols])\n",
    "\n",
    "    a=one_hot_enc_model.categories_\n",
    "    col_names=[]\n",
    "    for list_ in a:\n",
    "        for element in list_:\n",
    "            col_names.append(element)\n",
    "\n",
    "    nominal_train_df = pd.DataFrame(nominal_train_data, columns = col_names)\n",
    "\n",
    "    return nominal_train_df, ordinal_train_df\n"
   ]
  },
  {
   "cell_type": "markdown",
   "metadata": {},
   "source": [
    "### `3.8` Merge Data"
   ]
  },
  {
   "cell_type": "code",
   "execution_count": 231,
   "metadata": {},
   "outputs": [],
   "source": [
    "def merge_final_data(nominal_train_df, ordinal_train_df, num_train_df, nominal_test_df, ordinal_test_df, num_validation_df):\n",
    "    \n",
    "    final_train_data = nominal_train_df.merge(ordinal_train_df, right_index = True, left_index = True, how = 'inner')\\\n",
    "    .merge(num_train_df, right_index = True, left_index = True, how = 'inner')\n",
    "\n",
    "    final_test_data = nominal_test_df.merge(ordinal_test_df, right_index = True, left_index = True, how = 'inner')\\\n",
    "    .merge(num_validation_df, right_index = True, left_index = True, how = 'inner')\n",
    "\n",
    "    return final_train_data, final_test_data"
   ]
  },
  {
   "cell_type": "markdown",
   "metadata": {},
   "source": [
    "### **Pre-Processing Function** "
   ]
  },
  {
   "cell_type": "code",
   "execution_count": 232,
   "metadata": {},
   "outputs": [],
   "source": [
    "def pre_processing(train_data, validation_data, nominal_cols, ordinal_cols, shapiro_alpha):\n",
    "    \n",
    "    #0) handling nulls    \n",
    "    train_data =  handling_Nulls (train_data)\n",
    "    validation_data =  handling_Nulls (validation_data)\n",
    "\n",
    "    #1) dropping duplicated Values\n",
    "    train_data, validation_data =  train_data.drop_duplicates(), validation_data.drop_duplicates()\n",
    "\n",
    "    #3) Scaling Features\n",
    "    num_train_data, Y_train, num_validation_data, Y_test = scaling_features (train_data, validation_data, shapiro_alpha)\n",
    "\n",
    "    #4) handling categorical data     \n",
    "    nominal_train_df, ordinal_train_df = handling_catecorical(train_data, ordinal_cols, nominal_cols)\n",
    "    nominal_test_df, ordinal_test_df = handling_catecorical(validation_data, ordinal_cols, nominal_cols)\n",
    "\n",
    "    #5) Merge all these stuff together\n",
    "    final_train_data, final_test_data =  merge_final_data(nominal_train_df, ordinal_train_df, num_train_data,\n",
    "                                                        nominal_test_df, ordinal_test_df, num_validation_data)\n",
    "\n",
    "    return final_train_data, final_test_data"
   ]
  },
  {
   "cell_type": "code",
   "execution_count": 233,
   "metadata": {},
   "outputs": [
    {
     "name": "stdout",
     "output_type": "stream",
     "text": [
      "features to be scaled with min max ['education.num', 'hours.per.week', 'capital.gain', 'age', 'capital.loss']\n",
      "features to be scaled with standarization []\n",
      "final_train_data shape = (21909, 89)\n",
      "final_test_data shape = (5791, 87)\n"
     ]
    }
   ],
   "source": [
    "final_train_data, final_test_data = pre_processing(train_data,\n",
    "                                                         validation_data,\n",
    "                                                         nominal_cols,\n",
    "                                                         ordinal_cols,\n",
    "                                                         shapiro_alpha = 0.05\n",
    "                                                        )  \n",
    "print(f'final_train_data shape = {final_train_data.shape}')  \n",
    "print(f'final_test_data shape = {final_test_data.shape}')     "
   ]
  },
  {
   "cell_type": "code",
   "execution_count": 234,
   "metadata": {},
   "outputs": [
    {
     "name": "stdout",
     "output_type": "stream",
     "text": [
      "X_train shape : (21909, 86), Y_train shape : (21909, 1)\n",
      "X_test shape : (5791, 86), Y_test shape : (5791, 1)\n"
     ]
    }
   ],
   "source": [
    "Y_train = final_train_data[['income']]\n",
    "X_train = final_train_data.loc[:, final_train_data.columns!='income']\n",
    "\n",
    "X_test = final_test_data.loc[:, final_test_data.columns!='income']\n",
    "Y_test = final_test_data[['income']]\n",
    "\n",
    "common_col = X_train.columns.intersection(X_test.columns)\n",
    "X_train = X_train[common_col]   \n",
    "X_test = X_test[common_col]   \n",
    "\n",
    "print(f'X_train shape : {X_train.shape}, Y_train shape : {Y_train.shape}')\n",
    "print(f'X_test shape : {X_test.shape}, Y_test shape : {Y_test.shape}')"
   ]
  },
  {
   "cell_type": "markdown",
   "metadata": {},
   "source": [
    "#### `3.8` Handling Imbalanced Data"
   ]
  },
  {
   "cell_type": "code",
   "execution_count": 235,
   "metadata": {},
   "outputs": [
    {
     "data": {
      "text/plain": [
       "0    16309\n",
       "1     5600\n",
       "dtype: int64"
      ]
     },
     "execution_count": 235,
     "metadata": {},
     "output_type": "execute_result"
    }
   ],
   "source": [
    "pd.value_counts(Y_train.values.flatten())"
   ]
  },
  {
   "cell_type": "code",
   "execution_count": 236,
   "metadata": {},
   "outputs": [
    {
     "data": {
      "text/plain": [
       "0    10600\n",
       "1    10600\n",
       "dtype: int64"
      ]
     },
     "execution_count": 236,
     "metadata": {},
     "output_type": "execute_result"
    }
   ],
   "source": [
    "from imblearn.over_sampling import SMOTE\n",
    "from imblearn.under_sampling import RandomUnderSampler\n",
    "\n",
    "over = SMOTE(sampling_strategy = {1 : 10600}, k_neighbors=2, random_state=42)\n",
    "X_train, Y_train = over.fit_resample(X_train ,Y_train)\n",
    "under = RandomUnderSampler(sampling_strategy = {0:10600}, random_state=42)\n",
    "X_train, Y_train = under.fit_resample(X_train, Y_train)\n",
    "pd.value_counts(Y_train.values.flatten())"
   ]
  },
  {
   "cell_type": "markdown",
   "metadata": {},
   "source": [
    "## `05`  Finaaaaaaaaaaaaaaaaaaaaaaaaaaaaaaally Training The Model :D "
   ]
  },
  {
   "cell_type": "markdown",
   "id": "2c28652b",
   "metadata": {
    "id": "2c28652b"
   },
   "source": [
    "## `01` KNN"
   ]
  },
  {
   "cell_type": "markdown",
   "id": "3d6c2cab",
   "metadata": {
    "id": "3d6c2cab"
   },
   "source": [
    "### `Grid search` "
   ]
  },
  {
   "cell_type": "code",
   "execution_count": 237,
   "id": "eca2bc8d",
   "metadata": {
    "id": "eca2bc8d"
   },
   "outputs": [],
   "source": [
    "n_neighbors = [9, 10, 11, 12]\n",
    "p = [1, 2]   # For manhattan and euclidean distance\n",
    "weights = ['uniform', 'distance']\n",
    "random_grid = {'n_neighbors': n_neighbors,\n",
    "               'p': p,\n",
    "               'weights': weights}\n",
    "scorer = make_scorer(f1_score)\n",
    "knn_clf = KNeighborsClassifier(n_jobs=-1)"
   ]
  },
  {
   "cell_type": "code",
   "execution_count": 238,
   "id": "3b2fd726",
   "metadata": {
    "colab": {
     "base_uri": "https://localhost:8080/"
    },
    "id": "3b2fd726",
    "outputId": "9f36c5c8-7dae-46b2-d68e-71d8491cf51f"
   },
   "outputs": [
    {
     "name": "stdout",
     "output_type": "stream",
     "text": [
      "Fitting 3 folds for each of 16 candidates, totalling 48 fits\n"
     ]
    },
    {
     "data": {
      "text/plain": [
       "{'n_neighbors': 10, 'p': 1, 'weights': 'distance'}"
      ]
     },
     "execution_count": 238,
     "metadata": {},
     "output_type": "execute_result"
    }
   ],
   "source": [
    "grid_search = GridSearchCV(estimator = knn_clf, \n",
    "                           param_grid = random_grid, \n",
    "                           scoring = scorer, \n",
    "                           cv = 3, \n",
    "                           verbose = 1).fit(X_train.values, Y_train.values.ravel())\n",
    "grid_search.best_params_"
   ]
  },
  {
   "cell_type": "code",
   "execution_count": 239,
   "id": "P5vSTdkLxNfT",
   "metadata": {
    "colab": {
     "base_uri": "https://localhost:8080/"
    },
    "id": "P5vSTdkLxNfT",
    "outputId": "5647a245-1867-4a42-9cc0-6a9da9a26306"
   },
   "outputs": [
    {
     "name": "stdout",
     "output_type": "stream",
     "text": [
      "Train :                precision    recall  f1-score   support\n",
      "\n",
      "           0       0.97      1.00      0.99     10600\n",
      "           1       1.00      0.97      0.99     10600\n",
      "\n",
      "    accuracy                           0.99     21200\n",
      "   macro avg       0.99      0.99      0.99     21200\n",
      "weighted avg       0.99      0.99      0.99     21200\n",
      "\n",
      "Test :                precision    recall  f1-score   support\n",
      "\n",
      "           0       0.90      0.79      0.84      4357\n",
      "           1       0.54      0.73      0.62      1434\n",
      "\n",
      "    accuracy                           0.78      5791\n",
      "   macro avg       0.72      0.76      0.73      5791\n",
      "weighted avg       0.81      0.78      0.79      5791\n",
      "\n"
     ]
    }
   ],
   "source": [
    "knn = KNeighborsClassifier(n_neighbors=10, weights='distance', p=1, n_jobs=-1)\n",
    "knn.fit(X_train, Y_train.values.ravel())\n",
    "knn_y_pred = knn.predict(X_test)\n",
    "\n",
    "print(\"Train : \", classification_report(Y_train, knn.predict(X_train)))\n",
    "print(\"Test : \", classification_report(Y_test, knn_y_pred))"
   ]
  },
  {
   "cell_type": "markdown",
   "id": "1677489d",
   "metadata": {
    "id": "1677489d"
   },
   "source": [
    "## `02` Decision Tree"
   ]
  },
  {
   "cell_type": "markdown",
   "id": "ec5b518c",
   "metadata": {
    "id": "ec5b518c"
   },
   "source": [
    "### ` Grid search `"
   ]
  },
  {
   "cell_type": "code",
   "execution_count": 251,
   "id": "14393b1d",
   "metadata": {
    "id": "14393b1d"
   },
   "outputs": [],
   "source": [
    "max_features = [x for x in range(1, 5)]\n",
    "max_depth = [x for x in range(9, 15)]\n",
    "ccp_alpha = [x for x in np.linspace(0.0001, 0.01, num = 5)]\n",
    "random_grid = {'max_features': max_features,\n",
    "               'max_depth': max_depth,\n",
    "               'ccp_alpha': ccp_alpha,\n",
    "               }\n",
    "\n",
    "scorer = make_scorer(f1_score)\n",
    "tree_clf = DecisionTreeClassifier(random_state = 42)"
   ]
  },
  {
   "cell_type": "code",
   "execution_count": 252,
   "id": "30621342",
   "metadata": {
    "colab": {
     "base_uri": "https://localhost:8080/"
    },
    "id": "30621342",
    "outputId": "ac377aa5-a7ad-47dd-ad9a-41d1c9a29098"
   },
   "outputs": [
    {
     "name": "stdout",
     "output_type": "stream",
     "text": [
      "Fitting 3 folds for each of 120 candidates, totalling 360 fits\n"
     ]
    }
   ],
   "source": [
    "grid_search = GridSearchCV(estimator = tree_clf, \n",
    "                           param_grid = random_grid, \n",
    "                           scoring = scorer, \n",
    "                           cv = 3, \n",
    "                           n_jobs = -1, \n",
    "                           verbose = 1).fit(X_train, Y_train)\n",
    "grid_search.best_params_"
   ]
  },
  {
   "cell_type": "code",
   "execution_count": 250,
   "id": "eHKEp3zvxzeK",
   "metadata": {
    "colab": {
     "base_uri": "https://localhost:8080/"
    },
    "id": "eHKEp3zvxzeK",
    "outputId": "f2277121-37bd-4d26-be9c-11ee707f7049"
   },
   "outputs": [
    {
     "name": "stdout",
     "output_type": "stream",
     "text": [
      "Train :                precision    recall  f1-score   support\n",
      "\n",
      "           0       0.79      0.63      0.70     10600\n",
      "           1       0.69      0.83      0.75     10600\n",
      "\n",
      "    accuracy                           0.73     21200\n",
      "   macro avg       0.74      0.73      0.73     21200\n",
      "weighted avg       0.74      0.73      0.73     21200\n",
      "\n",
      "Test :                precision    recall  f1-score   support\n",
      "\n",
      "           0       0.91      0.62      0.74      4357\n",
      "           1       0.41      0.82      0.55      1434\n",
      "\n",
      "    accuracy                           0.67      5791\n",
      "   macro avg       0.66      0.72      0.64      5791\n",
      "weighted avg       0.79      0.67      0.69      5791\n",
      "\n"
     ]
    }
   ],
   "source": [
    "tree_clf = DecisionTreeClassifier(ccp_alpha=0.0001,\n",
    "                                  max_depth=9,\n",
    "                                  max_features=4,\n",
    "                                  random_state = 42)\n",
    "\n",
    "tree_clf.fit(X_train, Y_train)\n",
    "tree_y_pred = tree_clf.predict(X_test)\n",
    "\n",
    "print(\"Train : \", classification_report(Y_train, tree_clf.predict(X_train)))\n",
    "print(\"Test : \", classification_report(Y_test, tree_y_pred))\n"
   ]
  },
  {
   "cell_type": "markdown",
   "id": "d706941b",
   "metadata": {
    "id": "d706941b"
   },
   "source": [
    "### `DecisionTree plot`"
   ]
  },
  {
   "cell_type": "code",
   "execution_count": 35,
   "id": "33926188",
   "metadata": {
    "colab": {
     "base_uri": "https://localhost:8080/",
     "height": 887
    },
    "id": "33926188",
    "outputId": "2c897766-aa73-4b2f-d9b2-80276f21358f"
   },
   "outputs": [
    {
     "data": {
      "image/png": "[encoded data removed]",
      "text/plain": [
       "<Figure size 1440x1080 with 1 Axes>"
      ]
     },
     "metadata": {
      "needs_background": "light"
     },
     "output_type": "display_data"
    }
   ],
   "source": [
    "from sklearn import tree\n",
    "import matplotlib.pyplot as plt\n",
    "\n",
    "fig = plt.figure(figsize=(20,15))\n",
    "_ = tree.plot_tree(tree_clf, \n",
    "                   feature_names=X_train.columns.to_list(),  \n",
    "                   class_names=['<=50K', '>50K'],\n",
    "                   filled=True)"
   ]
  },
  {
   "cell_type": "markdown",
   "id": "060f83f3",
   "metadata": {
    "id": "060f83f3"
   },
   "source": [
    "# `Random Forest`"
   ]
  },
  {
   "cell_type": "markdown",
   "id": "e07d0f2b",
   "metadata": {
    "id": "e07d0f2b"
   },
   "source": [
    "### `Grid search`"
   ]
  },
  {
   "cell_type": "code",
   "execution_count": 37,
   "id": "b5844779",
   "metadata": {
    "id": "b5844779"
   },
   "outputs": [],
   "source": [
    "n_estimators = [int(x) for x in np.linspace(start = 100, stop = 1000, num = 10)]\n",
    "max_features = ['auto', 'sqrt']\n",
    "max_depth = [int(x) for x in np.linspace(5, 50, num = 5)]\n",
    "max_samples = [2, 5, 10]\n",
    "random_grid = {'n_estimators': n_estimators,\n",
    "               'max_features': max_features,\n",
    "               'max_depth': max_depth,\n",
    "               'max_samples': max_samples}\n",
    "\n",
    "scorer = make_scorer(f1_score)\n",
    "rf = RandomForestClassifier(bootstrap=True, n_jobs=-1, random_state = 42)"
   ]
  },
  {
   "cell_type": "code",
   "execution_count": 38,
   "id": "62912829",
   "metadata": {
    "colab": {
     "base_uri": "https://localhost:8080/"
    },
    "id": "62912829",
    "outputId": "f493ac93-d411-4f60-f1f2-51fa7e885576"
   },
   "outputs": [
    {
     "name": "stdout",
     "output_type": "stream",
     "text": [
      "Fitting 3 folds for each of 300 candidates, totalling 900 fits\n"
     ]
    },
    {
     "name": "stderr",
     "output_type": "stream",
     "text": [
      "[Parallel(n_jobs=-1)]: Using backend LokyBackend with 8 concurrent workers.\n",
      "[Parallel(n_jobs=-1)]: Done  25 tasks      | elapsed:   10.6s\n",
      "[Parallel(n_jobs=-1)]: Done 146 tasks      | elapsed:  1.1min\n",
      "[Parallel(n_jobs=-1)]: Done 349 tasks      | elapsed:  2.6min\n",
      "[Parallel(n_jobs=-1)]: Done 632 tasks      | elapsed:  4.8min\n",
      "[Parallel(n_jobs=-1)]: Done 900 out of 900 | elapsed:  6.8min finished\n",
      "C:\\Users\\CRIZMA MEGA STORE\\anaconda3\\lib\\site-packages\\sklearn\\model_selection\\_search.py:765: DataConversionWarning: A column-vector y was passed when a 1d array was expected. Please change the shape of y to (n_samples,), for example using ravel().\n",
      "  self.best_estimator_.fit(X, y, **fit_params)\n"
     ]
    }
   ],
   "source": [
    "grid_search = GridSearchCV(estimator = rf, \n",
    "                           param_grid = random_grid, \n",
    "                           scoring = scorer, \n",
    "                           cv = 3, \n",
    "                           n_jobs = -1, \n",
    "                           verbose = 2).fit(X_train, Y_train)\n",
    "grid_search.best_params_"
   ]
  },
  {
   "cell_type": "code",
   "execution_count": 40,
   "id": "n2xFvXodzdTK",
   "metadata": {
    "colab": {
     "base_uri": "https://localhost:8080/"
    },
    "id": "n2xFvXodzdTK",
    "outputId": "6b9f7b25-4446-41ba-e223-78309ffb0607"
   },
   "outputs": [
    {
     "name": "stderr",
     "output_type": "stream",
     "text": [
      "C:\\Users\\CRIZMA MEGA STORE\\AppData\\Local\\Temp\\ipykernel_21560\\624242577.py:8: DataConversionWarning: A column-vector y was passed when a 1d array was expected. Please change the shape of y to (n_samples,), for example using ravel().\n",
      "  rf_clf.fit(X_train, Y_train)\n"
     ]
    },
    {
     "name": "stdout",
     "output_type": "stream",
     "text": [
      "Train F1_Score:  0.7735470941883767\n",
      "Test F1_Score:  0.6958667489204194\n"
     ]
    }
   ],
   "source": [
    "rf_clf = RandomForestClassifier(n_estimators=1000,\n",
    "                                max_depth=5,\n",
    "                                max_features='auto',\n",
    "                                n_jobs=-1, \n",
    "                                max_samples=2,\n",
    "                                bootstrap=True,\n",
    "                                random_state = 42)\n",
    "rf_clf.fit(X_train, Y_train)\n",
    "rf_y_pred = rf_clf.predict(X_test)\n",
    "print(\"Train : \", classification_report(Y_train, rf_clf.predict(X_train)))\n",
    "print(\"Test : \", classification_report(Y_test, rf_y_pred))\n"
   ]
  }
 ],
 "metadata": {
  "interpreter": {
   "hash": "c9e7b3c2fb1c80d8fb2d18b5b8f02d5433c25d2647e2480054385b66b75dcb6c"
  },
  "kernelspec": {
   "display_name": "Python 3 (ipykernel)",
   "language": "python",
   "name": "python3"
  },
  "language_info": {
   "codemirror_mode": {
    "name": "ipython",
    "version": 3
   },
   "file_extension": ".py",
   "mimetype": "text/x-python",
   "name": "python",
   "nbconvert_exporter": "python",
   "pygments_lexer": "ipython3",
   "version": "3.8.8"
  }
 },
 "nbformat": 4,
 "nbformat_minor": 2
}
