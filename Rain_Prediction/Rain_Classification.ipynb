{
 "cells": [
  {
   "cell_type": "markdown",
   "metadata": {},
   "source": [
    "# Weather History "
   ]
  },
  {
   "cell_type": "markdown",
   "metadata": {},
   "source": [
    "## `00 ` Import libraries "
   ]
  },
  {
   "cell_type": "code",
   "execution_count": 359,
   "metadata": {},
   "outputs": [],
   "source": [
    "import numpy as np\n",
    "import pandas as pd\n",
    "# visulaization\n",
    "import matplotlib.pyplot as plt\n",
    "import seaborn as sns\n",
    "\n",
    "#check normality\n",
    "from scipy.stats import shapiro\n",
    "#for Normalization\n",
    "from sklearn.preprocessing import MinMaxScaler, RobustScaler, StandardScaler\n",
    "#spliting data\n",
    "from sklearn.model_selection import train_test_split\n",
    "#models\n",
    "from sklearn.svm import SVC\n",
    "from sklearn.metrics import classification_report, f1_score\n",
    "import random\n",
    "pd.set_option('display.max_columns', None)\n"
   ]
  },
  {
   "cell_type": "markdown",
   "metadata": {},
   "source": [
    "## `01 ` Read Data "
   ]
  },
  {
   "cell_type": "code",
   "execution_count": 360,
   "metadata": {},
   "outputs": [
    {
     "data": {
      "text/html": [
       "<div>\n",
       "<style scoped>\n",
       "    .dataframe tbody tr th:only-of-type {\n",
       "        vertical-align: middle;\n",
       "    }\n",
       "\n",
       "    .dataframe tbody tr th {\n",
       "        vertical-align: top;\n",
       "    }\n",
       "\n",
       "    .dataframe thead th {\n",
       "        text-align: right;\n",
       "    }\n",
       "</style>\n",
       "<table border=\"1\" class=\"dataframe\">\n",
       "  <thead>\n",
       "    <tr style=\"text-align: right;\">\n",
       "      <th></th>\n",
       "      <th>MinTemp</th>\n",
       "      <th>MaxTemp</th>\n",
       "      <th>Rainfall</th>\n",
       "      <th>Evaporation</th>\n",
       "      <th>Sunshine</th>\n",
       "      <th>WindGustDir</th>\n",
       "      <th>WindGustSpeed</th>\n",
       "      <th>WindDir9am</th>\n",
       "      <th>WindDir3pm</th>\n",
       "      <th>WindSpeed9am</th>\n",
       "      <th>WindSpeed3pm</th>\n",
       "      <th>Humidity9am</th>\n",
       "      <th>Humidity3pm</th>\n",
       "      <th>Pressure9am</th>\n",
       "      <th>Pressure3pm</th>\n",
       "      <th>Cloud9am</th>\n",
       "      <th>Cloud3pm</th>\n",
       "      <th>Temp9am</th>\n",
       "      <th>Temp3pm</th>\n",
       "      <th>RainToday</th>\n",
       "      <th>RISK_MM</th>\n",
       "      <th>RainTomorrow</th>\n",
       "    </tr>\n",
       "  </thead>\n",
       "  <tbody>\n",
       "    <tr>\n",
       "      <th>0</th>\n",
       "      <td>8.0</td>\n",
       "      <td>24.3</td>\n",
       "      <td>0.0</td>\n",
       "      <td>3.4</td>\n",
       "      <td>6.3</td>\n",
       "      <td>NW</td>\n",
       "      <td>30.0</td>\n",
       "      <td>SW</td>\n",
       "      <td>NW</td>\n",
       "      <td>6.0</td>\n",
       "      <td>20</td>\n",
       "      <td>68</td>\n",
       "      <td>29</td>\n",
       "      <td>1019.7</td>\n",
       "      <td>1015.0</td>\n",
       "      <td>7</td>\n",
       "      <td>7</td>\n",
       "      <td>14.4</td>\n",
       "      <td>23.6</td>\n",
       "      <td>No</td>\n",
       "      <td>3.6</td>\n",
       "      <td>Yes</td>\n",
       "    </tr>\n",
       "    <tr>\n",
       "      <th>1</th>\n",
       "      <td>14.0</td>\n",
       "      <td>26.9</td>\n",
       "      <td>3.6</td>\n",
       "      <td>4.4</td>\n",
       "      <td>9.7</td>\n",
       "      <td>ENE</td>\n",
       "      <td>39.0</td>\n",
       "      <td>E</td>\n",
       "      <td>W</td>\n",
       "      <td>4.0</td>\n",
       "      <td>17</td>\n",
       "      <td>80</td>\n",
       "      <td>36</td>\n",
       "      <td>1012.4</td>\n",
       "      <td>1008.4</td>\n",
       "      <td>5</td>\n",
       "      <td>3</td>\n",
       "      <td>17.5</td>\n",
       "      <td>25.7</td>\n",
       "      <td>Yes</td>\n",
       "      <td>3.6</td>\n",
       "      <td>Yes</td>\n",
       "    </tr>\n",
       "    <tr>\n",
       "      <th>2</th>\n",
       "      <td>13.7</td>\n",
       "      <td>23.4</td>\n",
       "      <td>3.6</td>\n",
       "      <td>5.8</td>\n",
       "      <td>3.3</td>\n",
       "      <td>NW</td>\n",
       "      <td>85.0</td>\n",
       "      <td>N</td>\n",
       "      <td>NNE</td>\n",
       "      <td>6.0</td>\n",
       "      <td>6</td>\n",
       "      <td>82</td>\n",
       "      <td>69</td>\n",
       "      <td>1009.5</td>\n",
       "      <td>1007.2</td>\n",
       "      <td>8</td>\n",
       "      <td>7</td>\n",
       "      <td>15.4</td>\n",
       "      <td>20.2</td>\n",
       "      <td>Yes</td>\n",
       "      <td>39.8</td>\n",
       "      <td>Yes</td>\n",
       "    </tr>\n",
       "  </tbody>\n",
       "</table>\n",
       "</div>"
      ],
      "text/plain": [
       "   MinTemp  MaxTemp  Rainfall  Evaporation  Sunshine WindGustDir  \\\n",
       "0      8.0     24.3       0.0          3.4       6.3          NW   \n",
       "1     14.0     26.9       3.6          4.4       9.7         ENE   \n",
       "2     13.7     23.4       3.6          5.8       3.3          NW   \n",
       "\n",
       "   WindGustSpeed WindDir9am WindDir3pm  WindSpeed9am  WindSpeed3pm  \\\n",
       "0           30.0         SW         NW           6.0            20   \n",
       "1           39.0          E          W           4.0            17   \n",
       "2           85.0          N        NNE           6.0             6   \n",
       "\n",
       "   Humidity9am  Humidity3pm  Pressure9am  Pressure3pm  Cloud9am  Cloud3pm  \\\n",
       "0           68           29       1019.7       1015.0         7         7   \n",
       "1           80           36       1012.4       1008.4         5         3   \n",
       "2           82           69       1009.5       1007.2         8         7   \n",
       "\n",
       "   Temp9am  Temp3pm RainToday  RISK_MM RainTomorrow  \n",
       "0     14.4     23.6        No      3.6          Yes  \n",
       "1     17.5     25.7       Yes      3.6          Yes  \n",
       "2     15.4     20.2       Yes     39.8          Yes  "
      ]
     },
     "execution_count": 360,
     "metadata": {},
     "output_type": "execute_result"
    }
   ],
   "source": [
    "df = pd.read_csv(\"weather_classification.csv\")\n",
    "# df = df.sample(frac = 1)\n",
    "df.head(3)"
   ]
  },
  {
   "cell_type": "markdown",
   "metadata": {},
   "source": [
    "## `02` EDA"
   ]
  },
  {
   "cell_type": "code",
   "execution_count": 361,
   "metadata": {},
   "outputs": [
    {
     "name": "stdout",
     "output_type": "stream",
     "text": [
      "<class 'pandas.core.frame.DataFrame'>\n",
      "RangeIndex: 366 entries, 0 to 365\n",
      "Data columns (total 22 columns):\n",
      " #   Column         Non-Null Count  Dtype  \n",
      "---  ------         --------------  -----  \n",
      " 0   MinTemp        366 non-null    float64\n",
      " 1   MaxTemp        366 non-null    float64\n",
      " 2   Rainfall       366 non-null    float64\n",
      " 3   Evaporation    366 non-null    float64\n",
      " 4   Sunshine       363 non-null    float64\n",
      " 5   WindGustDir    363 non-null    object \n",
      " 6   WindGustSpeed  364 non-null    float64\n",
      " 7   WindDir9am     335 non-null    object \n",
      " 8   WindDir3pm     365 non-null    object \n",
      " 9   WindSpeed9am   359 non-null    float64\n",
      " 10  WindSpeed3pm   366 non-null    int64  \n",
      " 11  Humidity9am    366 non-null    int64  \n",
      " 12  Humidity3pm    366 non-null    int64  \n",
      " 13  Pressure9am    366 non-null    float64\n",
      " 14  Pressure3pm    366 non-null    float64\n",
      " 15  Cloud9am       366 non-null    int64  \n",
      " 16  Cloud3pm       366 non-null    int64  \n",
      " 17  Temp9am        366 non-null    float64\n",
      " 18  Temp3pm        366 non-null    float64\n",
      " 19  RainToday      366 non-null    object \n",
      " 20  RISK_MM        366 non-null    float64\n",
      " 21  RainTomorrow   366 non-null    object \n",
      "dtypes: float64(12), int64(5), object(5)\n",
      "memory usage: 63.0+ KB\n"
     ]
    }
   ],
   "source": [
    "df.info()"
   ]
  },
  {
   "cell_type": "code",
   "execution_count": 362,
   "metadata": {},
   "outputs": [],
   "source": [
    "cat_cols = ['WindGustDir', 'WindDir9am', 'WindDir3pm', 'RainToday']\n",
    "num_cols = list(set(df.columns.to_list()) - set(['index', 'RainTomorrow'] + cat_cols))"
   ]
  },
  {
   "cell_type": "markdown",
   "metadata": {},
   "source": [
    "### `2.1` Check Normality"
   ]
  },
  {
   "cell_type": "code",
   "execution_count": 363,
   "metadata": {},
   "outputs": [
    {
     "data": {
      "image/png": "[encoded data removed]",
      "text/plain": [
       "<Figure size 1440x2160 with 17 Axes>"
      ]
     },
     "metadata": {
      "needs_background": "light"
     },
     "output_type": "display_data"
    }
   ],
   "source": [
    "\n",
    "plt.figure(figsize=(20,30))\n",
    "for i, col in enumerate(df[num_cols]):\n",
    "    ax = plt.subplot(9, 5, i+1)\n",
    "    sns.histplot(df[col], ax=ax)\n",
    "plt.show()"
   ]
  },
  {
   "cell_type": "markdown",
   "metadata": {},
   "source": [
    "### `2.2` Check Nulls"
   ]
  },
  {
   "cell_type": "code",
   "execution_count": 364,
   "metadata": {},
   "outputs": [
    {
     "data": {
      "text/html": [
       "<div>\n",
       "<style scoped>\n",
       "    .dataframe tbody tr th:only-of-type {\n",
       "        vertical-align: middle;\n",
       "    }\n",
       "\n",
       "    .dataframe tbody tr th {\n",
       "        vertical-align: top;\n",
       "    }\n",
       "\n",
       "    .dataframe thead th {\n",
       "        text-align: right;\n",
       "    }\n",
       "</style>\n",
       "<table border=\"1\" class=\"dataframe\">\n",
       "  <thead>\n",
       "    <tr style=\"text-align: right;\">\n",
       "      <th></th>\n",
       "      <th>index</th>\n",
       "      <th>Nulls_Count</th>\n",
       "    </tr>\n",
       "  </thead>\n",
       "  <tbody>\n",
       "    <tr>\n",
       "      <th>0</th>\n",
       "      <td>WindDir9am</td>\n",
       "      <td>8.469945</td>\n",
       "    </tr>\n",
       "    <tr>\n",
       "      <th>1</th>\n",
       "      <td>WindSpeed9am</td>\n",
       "      <td>1.912568</td>\n",
       "    </tr>\n",
       "    <tr>\n",
       "      <th>2</th>\n",
       "      <td>Sunshine</td>\n",
       "      <td>0.819672</td>\n",
       "    </tr>\n",
       "    <tr>\n",
       "      <th>3</th>\n",
       "      <td>WindGustDir</td>\n",
       "      <td>0.819672</td>\n",
       "    </tr>\n",
       "    <tr>\n",
       "      <th>4</th>\n",
       "      <td>WindGustSpeed</td>\n",
       "      <td>0.546448</td>\n",
       "    </tr>\n",
       "    <tr>\n",
       "      <th>5</th>\n",
       "      <td>WindDir3pm</td>\n",
       "      <td>0.273224</td>\n",
       "    </tr>\n",
       "  </tbody>\n",
       "</table>\n",
       "</div>"
      ],
      "text/plain": [
       "           index  Nulls_Count\n",
       "0     WindDir9am     8.469945\n",
       "1   WindSpeed9am     1.912568\n",
       "2       Sunshine     0.819672\n",
       "3    WindGustDir     0.819672\n",
       "4  WindGustSpeed     0.546448\n",
       "5     WindDir3pm     0.273224"
      ]
     },
     "execution_count": 364,
     "metadata": {},
     "output_type": "execute_result"
    }
   ],
   "source": [
    "nulls_df = ((df.isna().sum()/df.shape[0])*100).sort_values(ascending=False).reset_index().rename(columns = { 0 : \"Nulls_Count\"})\n",
    "nulls_df[nulls_df['Nulls_Count'] > 0]\n"
   ]
  },
  {
   "cell_type": "markdown",
   "metadata": {},
   "source": [
    "### `2.3` Check Duplicates"
   ]
  },
  {
   "cell_type": "code",
   "execution_count": 365,
   "metadata": {},
   "outputs": [
    {
     "data": {
      "text/plain": [
       "0"
      ]
     },
     "execution_count": 365,
     "metadata": {},
     "output_type": "execute_result"
    }
   ],
   "source": [
    "#check Duplicates\n",
    "df.duplicated().sum()"
   ]
  },
  {
   "cell_type": "markdown",
   "metadata": {},
   "source": [
    "### `2.4` Check Outliers"
   ]
  },
  {
   "cell_type": "code",
   "execution_count": 366,
   "metadata": {},
   "outputs": [
    {
     "data": {
      "image/png": "[encoded data removed]",
      "text/plain": [
       "<Figure size 1440x2160 with 17 Axes>"
      ]
     },
     "metadata": {
      "needs_background": "light"
     },
     "output_type": "display_data"
    }
   ],
   "source": [
    "#Check Outliers\n",
    "plt.figure(figsize=(20,30))\n",
    "for i, col in enumerate(df[num_cols]):\n",
    "    plt.subplot(9, 3, i+1)\n",
    "    sns.boxplot(x = df[col]) \n",
    "plt.show()\n"
   ]
  },
  {
   "cell_type": "markdown",
   "metadata": {},
   "source": [
    "### `2.5` Check Highly correlated features"
   ]
  },
  {
   "cell_type": "code",
   "execution_count": 367,
   "metadata": {},
   "outputs": [
    {
     "data": {
      "text/plain": [
       "<AxesSubplot:>"
      ]
     },
     "execution_count": 367,
     "metadata": {},
     "output_type": "execute_result"
    },
    {
     "data": {
      "image/png": "[encoded data removed]",
      "text/plain": [
       "<Figure size 504x360 with 2 Axes>"
      ]
     },
     "metadata": {
      "needs_background": "light"
     },
     "output_type": "display_data"
    }
   ],
   "source": [
    "# making a heatmap to inspect the highly correlated features\n",
    "import seaborn as sns\n",
    "corr_matrix = df[num_cols].corr()\n",
    "plt.subplots(figsize = (7, 5))\n",
    "sns.heatmap(corr_matrix, \n",
    "           xticklabels = corr_matrix.columns.values,\n",
    "           yticklabels = corr_matrix.columns.values, \n",
    "           linewidth = 0.1)"
   ]
  },
  {
   "cell_type": "markdown",
   "metadata": {},
   "source": [
    "### `2.6` Categorical Features"
   ]
  },
  {
   "cell_type": "code",
   "execution_count": 368,
   "metadata": {},
   "outputs": [
    {
     "data": {
      "text/plain": [
       "No     300\n",
       "Yes     66\n",
       "Name: RainToday, dtype: int64"
      ]
     },
     "execution_count": 368,
     "metadata": {},
     "output_type": "execute_result"
    }
   ],
   "source": [
    "df['RainToday'].value_counts()\n"
   ]
  },
  {
   "cell_type": "code",
   "execution_count": 369,
   "metadata": {},
   "outputs": [
    {
     "data": {
      "text/plain": [
       "NW     73\n",
       "NNW    44\n",
       "E      37\n",
       "WNW    35\n",
       "ENE    30\n",
       "ESE    23\n",
       "S      22\n",
       "N      21\n",
       "W      20\n",
       "NE     16\n",
       "SE     12\n",
       "SSE    12\n",
       "NNE     8\n",
       "SSW     5\n",
       "SW      3\n",
       "WSW     2\n",
       "Name: WindGustDir, dtype: int64"
      ]
     },
     "execution_count": 369,
     "metadata": {},
     "output_type": "execute_result"
    }
   ],
   "source": [
    "df['WindGustDir'].value_counts()"
   ]
  },
  {
   "cell_type": "code",
   "execution_count": 370,
   "id": "aa05507c",
   "metadata": {},
   "outputs": [
    {
     "data": {
      "text/plain": [
       "SE     47\n",
       "SSE    40\n",
       "NNW    36\n",
       "N      31\n",
       "NW     30\n",
       "ESE    29\n",
       "S      27\n",
       "E      22\n",
       "SSW    17\n",
       "WNW    16\n",
       "W       8\n",
       "NNE     8\n",
       "ENE     8\n",
       "SW      7\n",
       "WSW     5\n",
       "NE      4\n",
       "Name: WindDir9am, dtype: int64"
      ]
     },
     "execution_count": 370,
     "metadata": {},
     "output_type": "execute_result"
    }
   ],
   "source": [
    "df['WindDir9am'].value_counts()"
   ]
  },
  {
   "cell_type": "code",
   "execution_count": 371,
   "id": "eca52916",
   "metadata": {},
   "outputs": [
    {
     "data": {
      "text/plain": [
       "NW     61\n",
       "WNW    61\n",
       "NNW    47\n",
       "N      30\n",
       "ESE    27\n",
       "W      26\n",
       "E      17\n",
       "NE     15\n",
       "S      14\n",
       "NNE    14\n",
       "ENE    13\n",
       "SE     12\n",
       "WSW    11\n",
       "SSE     7\n",
       "SSW     6\n",
       "SW      4\n",
       "Name: WindDir3pm, dtype: int64"
      ]
     },
     "execution_count": 371,
     "metadata": {},
     "output_type": "execute_result"
    }
   ],
   "source": [
    "df['WindDir3pm'].value_counts()"
   ]
  },
  {
   "cell_type": "markdown",
   "metadata": {},
   "source": [
    "### `2.7` Check if Imbalanced"
   ]
  },
  {
   "cell_type": "code",
   "execution_count": 372,
   "metadata": {},
   "outputs": [
    {
     "data": {
      "image/png": "[encoded data removed]",
      "text/plain": [
       "<Figure size 432x288 with 1 Axes>"
      ]
     },
     "metadata": {
      "needs_background": "light"
     },
     "output_type": "display_data"
    }
   ],
   "source": [
    "# Check number of samples in each class\n",
    "_ = sns.countplot(x='RainTomorrow', data=df)"
   ]
  },
  {
   "cell_type": "markdown",
   "metadata": {},
   "source": [
    " \n",
    "> ### **Observations :**\n",
    "> Data have : \n",
    "> 1. Nulls\n",
    "> 2. Corrolated Features\n",
    "> 3. Skewness\n",
    "> 4. Outliers <br>\n",
    "> 5. Imbalanced\n",
    "\n",
    "\n"
   ]
  },
  {
   "cell_type": "markdown",
   "metadata": {},
   "source": [
    "## `03` Data Preprocessing"
   ]
  },
  {
   "cell_type": "markdown",
   "metadata": {},
   "source": [
    "#### `3.1` Handling Nulls"
   ]
  },
  {
   "cell_type": "code",
   "execution_count": 373,
   "metadata": {},
   "outputs": [
    {
     "data": {
      "text/plain": [
       "0"
      ]
     },
     "execution_count": 373,
     "metadata": {},
     "output_type": "execute_result"
    }
   ],
   "source": [
    "## columns which have more than 60% of the data NULL values should be dropped\n",
    "df['WindDir9am'] = df['WindDir9am'].fillna(df['WindDir9am'].mode()[0])\n",
    "df['WindSpeed9am'] = df['WindSpeed9am'].fillna(df['WindSpeed9am'].median())\n",
    "\n",
    "## when the number of nulls in a row is very small, we can simply drop this small number of rows\n",
    "features_with_rows_to_be_dropped = ['Sunshine', 'WindGustDir', 'WindGustSpeed', 'WindDir3pm']\n",
    "df = df.dropna(axis=0, subset=features_with_rows_to_be_dropped)\n",
    "\n",
    "# Re-check null values\n",
    "df.isna().sum().sum()"
   ]
  },
  {
   "cell_type": "markdown",
   "metadata": {},
   "source": [
    "#### `3.2` Dropping duplicates"
   ]
  },
  {
   "cell_type": "code",
   "execution_count": 374,
   "metadata": {},
   "outputs": [],
   "source": [
    "df = df.drop_duplicates()"
   ]
  },
  {
   "cell_type": "markdown",
   "metadata": {},
   "source": [
    "#### `3.3` Handling Categorical Data"
   ]
  },
  {
   "cell_type": "code",
   "execution_count": 375,
   "metadata": {},
   "outputs": [
    {
     "data": {
      "text/html": [
       "<div>\n",
       "<style scoped>\n",
       "    .dataframe tbody tr th:only-of-type {\n",
       "        vertical-align: middle;\n",
       "    }\n",
       "\n",
       "    .dataframe tbody tr th {\n",
       "        vertical-align: top;\n",
       "    }\n",
       "\n",
       "    .dataframe thead th {\n",
       "        text-align: right;\n",
       "    }\n",
       "</style>\n",
       "<table border=\"1\" class=\"dataframe\">\n",
       "  <thead>\n",
       "    <tr style=\"text-align: right;\">\n",
       "      <th></th>\n",
       "      <th>MinTemp</th>\n",
       "      <th>MaxTemp</th>\n",
       "      <th>Rainfall</th>\n",
       "      <th>Evaporation</th>\n",
       "      <th>Sunshine</th>\n",
       "      <th>WindGustSpeed</th>\n",
       "      <th>WindSpeed9am</th>\n",
       "      <th>WindSpeed3pm</th>\n",
       "      <th>Humidity9am</th>\n",
       "      <th>Humidity3pm</th>\n",
       "      <th>Pressure9am</th>\n",
       "      <th>Pressure3pm</th>\n",
       "      <th>Cloud9am</th>\n",
       "      <th>Cloud3pm</th>\n",
       "      <th>Temp9am</th>\n",
       "      <th>Temp3pm</th>\n",
       "      <th>RISK_MM</th>\n",
       "      <th>RainTomorrow</th>\n",
       "      <th>WindGustDir_0</th>\n",
       "      <th>WindGustDir_1</th>\n",
       "      <th>WindGustDir_2</th>\n",
       "      <th>WindGustDir_3</th>\n",
       "      <th>WindGustDir_4</th>\n",
       "      <th>WindDir9am_0</th>\n",
       "      <th>WindDir9am_1</th>\n",
       "      <th>WindDir9am_2</th>\n",
       "      <th>WindDir9am_3</th>\n",
       "      <th>WindDir9am_4</th>\n",
       "      <th>WindDir3pm_0</th>\n",
       "      <th>WindDir3pm_1</th>\n",
       "      <th>WindDir3pm_2</th>\n",
       "      <th>WindDir3pm_3</th>\n",
       "      <th>WindDir3pm_4</th>\n",
       "      <th>RainToday_0</th>\n",
       "      <th>RainToday_1</th>\n",
       "    </tr>\n",
       "  </thead>\n",
       "  <tbody>\n",
       "    <tr>\n",
       "      <th>0</th>\n",
       "      <td>8.0</td>\n",
       "      <td>24.3</td>\n",
       "      <td>0.0</td>\n",
       "      <td>3.4</td>\n",
       "      <td>6.3</td>\n",
       "      <td>30.0</td>\n",
       "      <td>6.0</td>\n",
       "      <td>20</td>\n",
       "      <td>68</td>\n",
       "      <td>29</td>\n",
       "      <td>1019.7</td>\n",
       "      <td>1015.0</td>\n",
       "      <td>7</td>\n",
       "      <td>7</td>\n",
       "      <td>14.4</td>\n",
       "      <td>23.6</td>\n",
       "      <td>3.6</td>\n",
       "      <td>1</td>\n",
       "      <td>0</td>\n",
       "      <td>0</td>\n",
       "      <td>0</td>\n",
       "      <td>0</td>\n",
       "      <td>1</td>\n",
       "      <td>0</td>\n",
       "      <td>0</td>\n",
       "      <td>0</td>\n",
       "      <td>0</td>\n",
       "      <td>1</td>\n",
       "      <td>0</td>\n",
       "      <td>0</td>\n",
       "      <td>0</td>\n",
       "      <td>0</td>\n",
       "      <td>1</td>\n",
       "      <td>0</td>\n",
       "      <td>1</td>\n",
       "    </tr>\n",
       "    <tr>\n",
       "      <th>1</th>\n",
       "      <td>14.0</td>\n",
       "      <td>26.9</td>\n",
       "      <td>3.6</td>\n",
       "      <td>4.4</td>\n",
       "      <td>9.7</td>\n",
       "      <td>39.0</td>\n",
       "      <td>4.0</td>\n",
       "      <td>17</td>\n",
       "      <td>80</td>\n",
       "      <td>36</td>\n",
       "      <td>1012.4</td>\n",
       "      <td>1008.4</td>\n",
       "      <td>5</td>\n",
       "      <td>3</td>\n",
       "      <td>17.5</td>\n",
       "      <td>25.7</td>\n",
       "      <td>3.6</td>\n",
       "      <td>1</td>\n",
       "      <td>0</td>\n",
       "      <td>0</td>\n",
       "      <td>0</td>\n",
       "      <td>1</td>\n",
       "      <td>0</td>\n",
       "      <td>0</td>\n",
       "      <td>0</td>\n",
       "      <td>0</td>\n",
       "      <td>1</td>\n",
       "      <td>0</td>\n",
       "      <td>0</td>\n",
       "      <td>0</td>\n",
       "      <td>0</td>\n",
       "      <td>1</td>\n",
       "      <td>0</td>\n",
       "      <td>1</td>\n",
       "      <td>0</td>\n",
       "    </tr>\n",
       "    <tr>\n",
       "      <th>2</th>\n",
       "      <td>13.7</td>\n",
       "      <td>23.4</td>\n",
       "      <td>3.6</td>\n",
       "      <td>5.8</td>\n",
       "      <td>3.3</td>\n",
       "      <td>85.0</td>\n",
       "      <td>6.0</td>\n",
       "      <td>6</td>\n",
       "      <td>82</td>\n",
       "      <td>69</td>\n",
       "      <td>1009.5</td>\n",
       "      <td>1007.2</td>\n",
       "      <td>8</td>\n",
       "      <td>7</td>\n",
       "      <td>15.4</td>\n",
       "      <td>20.2</td>\n",
       "      <td>39.8</td>\n",
       "      <td>1</td>\n",
       "      <td>0</td>\n",
       "      <td>0</td>\n",
       "      <td>0</td>\n",
       "      <td>0</td>\n",
       "      <td>1</td>\n",
       "      <td>0</td>\n",
       "      <td>0</td>\n",
       "      <td>0</td>\n",
       "      <td>1</td>\n",
       "      <td>1</td>\n",
       "      <td>0</td>\n",
       "      <td>0</td>\n",
       "      <td>0</td>\n",
       "      <td>1</td>\n",
       "      <td>1</td>\n",
       "      <td>1</td>\n",
       "      <td>0</td>\n",
       "    </tr>\n",
       "    <tr>\n",
       "      <th>3</th>\n",
       "      <td>13.3</td>\n",
       "      <td>15.5</td>\n",
       "      <td>39.8</td>\n",
       "      <td>7.2</td>\n",
       "      <td>9.1</td>\n",
       "      <td>54.0</td>\n",
       "      <td>30.0</td>\n",
       "      <td>24</td>\n",
       "      <td>62</td>\n",
       "      <td>56</td>\n",
       "      <td>1005.5</td>\n",
       "      <td>1007.0</td>\n",
       "      <td>2</td>\n",
       "      <td>7</td>\n",
       "      <td>13.5</td>\n",
       "      <td>14.1</td>\n",
       "      <td>2.8</td>\n",
       "      <td>1</td>\n",
       "      <td>0</td>\n",
       "      <td>0</td>\n",
       "      <td>0</td>\n",
       "      <td>0</td>\n",
       "      <td>1</td>\n",
       "      <td>0</td>\n",
       "      <td>0</td>\n",
       "      <td>1</td>\n",
       "      <td>0</td>\n",
       "      <td>0</td>\n",
       "      <td>0</td>\n",
       "      <td>0</td>\n",
       "      <td>0</td>\n",
       "      <td>1</td>\n",
       "      <td>0</td>\n",
       "      <td>1</td>\n",
       "      <td>0</td>\n",
       "    </tr>\n",
       "    <tr>\n",
       "      <th>4</th>\n",
       "      <td>7.6</td>\n",
       "      <td>16.1</td>\n",
       "      <td>2.8</td>\n",
       "      <td>5.6</td>\n",
       "      <td>10.6</td>\n",
       "      <td>50.0</td>\n",
       "      <td>20.0</td>\n",
       "      <td>28</td>\n",
       "      <td>68</td>\n",
       "      <td>49</td>\n",
       "      <td>1018.3</td>\n",
       "      <td>1018.5</td>\n",
       "      <td>7</td>\n",
       "      <td>7</td>\n",
       "      <td>11.1</td>\n",
       "      <td>15.4</td>\n",
       "      <td>0.0</td>\n",
       "      <td>0</td>\n",
       "      <td>0</td>\n",
       "      <td>0</td>\n",
       "      <td>0</td>\n",
       "      <td>1</td>\n",
       "      <td>1</td>\n",
       "      <td>0</td>\n",
       "      <td>0</td>\n",
       "      <td>1</td>\n",
       "      <td>0</td>\n",
       "      <td>1</td>\n",
       "      <td>0</td>\n",
       "      <td>0</td>\n",
       "      <td>1</td>\n",
       "      <td>0</td>\n",
       "      <td>0</td>\n",
       "      <td>1</td>\n",
       "      <td>0</td>\n",
       "    </tr>\n",
       "  </tbody>\n",
       "</table>\n",
       "</div>"
      ],
      "text/plain": [
       "   MinTemp  MaxTemp  Rainfall  Evaporation  Sunshine  WindGustSpeed  \\\n",
       "0      8.0     24.3       0.0          3.4       6.3           30.0   \n",
       "1     14.0     26.9       3.6          4.4       9.7           39.0   \n",
       "2     13.7     23.4       3.6          5.8       3.3           85.0   \n",
       "3     13.3     15.5      39.8          7.2       9.1           54.0   \n",
       "4      7.6     16.1       2.8          5.6      10.6           50.0   \n",
       "\n",
       "   WindSpeed9am  WindSpeed3pm  Humidity9am  Humidity3pm  Pressure9am  \\\n",
       "0           6.0            20           68           29       1019.7   \n",
       "1           4.0            17           80           36       1012.4   \n",
       "2           6.0             6           82           69       1009.5   \n",
       "3          30.0            24           62           56       1005.5   \n",
       "4          20.0            28           68           49       1018.3   \n",
       "\n",
       "   Pressure3pm  Cloud9am  Cloud3pm  Temp9am  Temp3pm  RISK_MM  RainTomorrow  \\\n",
       "0       1015.0         7         7     14.4     23.6      3.6             1   \n",
       "1       1008.4         5         3     17.5     25.7      3.6             1   \n",
       "2       1007.2         8         7     15.4     20.2     39.8             1   \n",
       "3       1007.0         2         7     13.5     14.1      2.8             1   \n",
       "4       1018.5         7         7     11.1     15.4      0.0             0   \n",
       "\n",
       "   WindGustDir_0  WindGustDir_1  WindGustDir_2  WindGustDir_3  WindGustDir_4  \\\n",
       "0              0              0              0              0              1   \n",
       "1              0              0              0              1              0   \n",
       "2              0              0              0              0              1   \n",
       "3              0              0              0              0              1   \n",
       "4              0              0              0              1              1   \n",
       "\n",
       "   WindDir9am_0  WindDir9am_1  WindDir9am_2  WindDir9am_3  WindDir9am_4  \\\n",
       "0             0             0             0             0             1   \n",
       "1             0             0             0             1             0   \n",
       "2             0             0             0             1             1   \n",
       "3             0             0             1             0             0   \n",
       "4             0             0             1             0             1   \n",
       "\n",
       "   WindDir3pm_0  WindDir3pm_1  WindDir3pm_2  WindDir3pm_3  WindDir3pm_4  \\\n",
       "0             0             0             0             0             1   \n",
       "1             0             0             0             1             0   \n",
       "2             0             0             0             1             1   \n",
       "3             0             0             0             1             0   \n",
       "4             0             0             1             0             0   \n",
       "\n",
       "   RainToday_0  RainToday_1  \n",
       "0            0            1  \n",
       "1            1            0  \n",
       "2            1            0  \n",
       "3            1            0  \n",
       "4            1            0  "
      ]
     },
     "execution_count": 375,
     "metadata": {},
     "output_type": "execute_result"
    }
   ],
   "source": [
    "# Binary encoding for categorical data\n",
    "import category_encoders as ce\n",
    "df['RainTomorrow'] = df['RainTomorrow'].replace({'Yes': 1, 'No': 0})\n",
    "\n",
    "\n",
    "binaryEncoder = ce.BinaryEncoder()\n",
    "encoded_df = pd.concat([df, binaryEncoder.fit_transform(df[cat_cols])], axis=1)\n",
    "encoded_df.drop(columns=['WindGustDir', 'WindDir9am', 'WindDir3pm', 'RainToday'], inplace=True)\n",
    "encoded_df.head(5)"
   ]
  },
  {
   "cell_type": "markdown",
   "metadata": {},
   "source": [
    "#### `3.3` Handling Imbalanced Data"
   ]
  },
  {
   "cell_type": "code",
   "execution_count": 376,
   "metadata": {
    "id": "XvmNIqClH_en"
   },
   "outputs": [
    {
     "name": "stdout",
     "output_type": "stream",
     "text": [
      "train_data :  (287, 35)\n",
      "validation_data :  (72, 35)\n"
     ]
    }
   ],
   "source": [
    "# encoded_df = encoded_df.sample(frac = 1)\n",
    "train_data, validation_data = train_test_split(encoded_df, test_size = 0.2, random_state = 42)\n",
    "print(f'train_data : ', train_data.shape)\n",
    "print(f'validation_data : ', validation_data.shape)"
   ]
  },
  {
   "cell_type": "code",
   "execution_count": 377,
   "metadata": {},
   "outputs": [],
   "source": [
    "Y_train = train_data[['RainTomorrow']]\n",
    "X_train = train_data.loc[:, train_data.columns!='RainTomorrow']"
   ]
  },
  {
   "cell_type": "code",
   "execution_count": 378,
   "metadata": {},
   "outputs": [],
   "source": [
    "# Applying over/under sampling\n",
    "from imblearn.over_sampling import SMOTE\n",
    "from imblearn.under_sampling import RandomUnderSampler\n",
    "\n",
    "under = RandomUnderSampler(sampling_strategy = {0:150}, random_state=42)\n",
    "X_train ,Y_train = under.fit_resample(X_train ,Y_train)\n",
    "over = SMOTE(sampling_strategy = {1:150}, k_neighbors=4, random_state=42)\n",
    "X_res, y_res = over.fit_resample(X_train ,Y_train)"
   ]
  },
  {
   "cell_type": "code",
   "execution_count": 379,
   "metadata": {},
   "outputs": [
    {
     "data": {
      "image/png": "[encoded data removed]",
      "text/plain": [
       "<Figure size 432x288 with 1 Axes>"
      ]
     },
     "metadata": {
      "needs_background": "light"
     },
     "output_type": "display_data"
    }
   ],
   "source": [
    "_ = sns.countplot(x='RainTomorrow', data=y_res)\n",
    "train_data = pd.concat([X_res, y_res], axis = 1)"
   ]
  },
  {
   "cell_type": "markdown",
   "metadata": {},
   "source": [
    "#### `3.4` Handling Highly Corrolated Features"
   ]
  },
  {
   "cell_type": "code",
   "execution_count": 380,
   "metadata": {},
   "outputs": [],
   "source": [
    "def handling_highlyCorrolatedFeatures (train_data, validation_data, num_cols, target, threshold = 0.7):\n",
    "    num_cols_wthout_response_var = list(set(num_cols) - set([target]))\n",
    "    cor_matrix = train_data[num_cols_wthout_response_var].corr().abs()\n",
    "    upper_tri = cor_matrix.where(np.triu(np.ones(cor_matrix.shape),k=1).astype(np.bool))\n",
    "    to_drop = [column for column in upper_tri.columns if any(upper_tri[column] > threshold)]\n",
    "    train_data = train_data.drop(columns = to_drop)\n",
    "    validation_data = validation_data.drop(columns = to_drop)\n",
    "    return train_data, validation_data\n"
   ]
  },
  {
   "cell_type": "markdown",
   "metadata": {},
   "source": [
    "#### `3.5` Handling Outliers"
   ]
  },
  {
   "cell_type": "code",
   "execution_count": 381,
   "metadata": {},
   "outputs": [],
   "source": [
    "def bounds_calc(train_data, col, boundry_threshold):\n",
    "  Q1 = np.percentile(train_data[col], q = 25, interpolation = 'midpoint')\n",
    "  Q3 = np.percentile(train_data[col], q = 75, interpolation = 'midpoint')\n",
    "  IQR = Q3 - Q1\n",
    "  Upper_Bound = Q3 + boundry_threshold * IQR\n",
    "  Lower_Bound = Q1 - boundry_threshold * IQR\n",
    "  return Lower_Bound, Upper_Bound\n",
    "    \n",
    "def outliers_clamping(Lower_Bound, Upper_Bound, value):\n",
    "  if value > Upper_Bound:\n",
    "    return Upper_Bound\n",
    "  elif value < Lower_Bound:\n",
    "    return Lower_Bound\n",
    "  else:\n",
    "    return value\n",
    "\n",
    "def outliers_handling(train_data, validation_data, boundry_threshold):\n",
    "    num_data = list(set(train_data.select_dtypes(exclude=[object]).columns) )\n",
    "    for col in num_data:\n",
    "        Lower_Bound, Upper_Bound = bounds_calc(train_data, col, boundry_threshold)\n",
    "        train_data[col] = train_data[col].apply(lambda x : outliers_clamping(Lower_Bound, Upper_Bound, x))\n",
    "        validation_data[col] = validation_data[col].apply(lambda x : outliers_clamping(Lower_Bound, Upper_Bound, x))\n",
    "    return train_data, validation_data"
   ]
  },
  {
   "cell_type": "markdown",
   "metadata": {},
   "source": [
    "#### `3.6` Handling Skewness"
   ]
  },
  {
   "cell_type": "code",
   "execution_count": 382,
   "metadata": {},
   "outputs": [],
   "source": [
    "def skewness_calc(col ,df):\n",
    "    std_col = np.std(df[col])\n",
    "    mean_col = np.mean(df[col])\n",
    "    size_rows = df.count()[0]\n",
    "    skewness = np.sum(np.power(df[col] - mean_col, 3))/((size_rows - 1) * np.power(std_col, 3))\n",
    "    return skewness\n",
    "\n",
    "def skewed_data_transformation(value):\n",
    "  return np.log(1 + np.abs(value))\n",
    "\n",
    "def skewness_handling(train_data, validation_data):\n",
    "    num_data = list(set(train_data.select_dtypes(exclude=[object]).columns))\n",
    "    skewed_train_cols = []\n",
    "    for col in num_data: \n",
    "        sk = skewness_calc(col, train_data)\n",
    "        if (np.abs(sk) >= 1):\n",
    "            skewed_train_cols.append(col)\n",
    "            train_data[col] = train_data[col].apply(lambda x : skewed_data_transformation(x))\n",
    "            validation_data[col] = validation_data[col].apply(lambda x : skewed_data_transformation(x))\n",
    "    return train_data, validation_data"
   ]
  },
  {
   "cell_type": "markdown",
   "metadata": {},
   "source": [
    "#### `3.7` Feature Scaling"
   ]
  },
  {
   "cell_type": "markdown",
   "metadata": {},
   "source": [
    "##### `3.7.1 ` Shapiro-Wilk(Normal Distribution) test"
   ]
  },
  {
   "cell_type": "code",
   "execution_count": 383,
   "metadata": {},
   "outputs": [],
   "source": [
    "def Shapiro_Wilk_test (df, num_cols, alpha):\n",
    "    feats_std_scale = []\n",
    "    feats_min_max_scale = []\n",
    "    for col in num_cols:\n",
    "        stat, p = shapiro(df[col])\n",
    "        if p > alpha:\n",
    "            feats_std_scale.append(col)\n",
    "        else:\n",
    "            feats_min_max_scale.append(col)\n",
    "    return feats_min_max_scale, feats_std_scale"
   ]
  },
  {
   "cell_type": "markdown",
   "metadata": {},
   "source": [
    "##### `3.7.2 ` Scaling Features"
   ]
  },
  {
   "cell_type": "code",
   "execution_count": 384,
   "metadata": {},
   "outputs": [],
   "source": [
    "# brute force code , Don't forget to enhance ittttttt  ----------------->\n",
    "def scaling_features (train_data, validation_data, alpha):\n",
    "    num_data = list(set(train_data.select_dtypes(exclude=[object]).columns) - set(['Id']))\n",
    "    feats_min_max_scale, feats_std_scale = Shapiro_Wilk_test(train_data, num_data, alpha)\n",
    "    \n",
    "    if len(feats_std_scale) <= 0  :\n",
    "        min_max_scaler = MinMaxScaler()\n",
    "        min_max_scaler_model = min_max_scaler.fit(train_data[feats_min_max_scale])\n",
    "        min_max_scaled_train_data = pd.DataFrame(min_max_scaler_model.transform(train_data[feats_min_max_scale]), columns = feats_min_max_scale)\n",
    "        min_max_scaled_validation_data = pd.DataFrame(min_max_scaler_model.transform(validation_data[feats_min_max_scale]), columns = feats_min_max_scale)\n",
    "        num_train_data = min_max_scaled_train_data\n",
    "        num_validation_data = min_max_scaled_validation_data\n",
    "    elif len(feats_min_max_scale) <= 0 :\n",
    "        std_scaler = StandardScaler()\n",
    "        std_scaler_model = std_scaler.fit(train_data[feats_std_scale])\n",
    "        std_scaled_train_data = pd.DataFrame(std_scaler_model.transform(train_data[feats_std_scale]), columns = feats_std_scale)\n",
    "        std_scaled_validation_data = pd.DataFrame(std_scaler_model.transform(validation_data[feats_std_scale]), columns = feats_std_scale)\n",
    "        num_train_data = std_scaled_train_data\n",
    "        num_validation_data = std_scaled_validation_data\n",
    "    else : \n",
    "        min_max_scaler = MinMaxScaler()\n",
    "        min_max_scaler_model = min_max_scaler.fit(train_data[feats_min_max_scale])\n",
    "        min_max_scaled_train_data = pd.DataFrame(min_max_scaler_model.transform(train_data[feats_min_max_scale]), columns = feats_min_max_scale)\n",
    "        min_max_scaled_validation_data = pd.DataFrame(min_max_scaler_model.transform(validation_data[feats_min_max_scale]), columns = feats_min_max_scale)\n",
    "        \n",
    "        std_scaler = StandardScaler()\n",
    "        std_scaler_model = std_scaler.fit(train_data[feats_std_scale])\n",
    "        std_scaled_train_data = pd.DataFrame(std_scaler_model.transform(train_data[feats_std_scale]), columns = feats_std_scale)\n",
    "        std_scaled_validation_data = pd.DataFrame(std_scaler_model.transform(validation_data[feats_std_scale]), columns = feats_std_scale)\n",
    "        \n",
    "        num_train_data = std_scaled_train_data.merge(min_max_scaled_train_data, right_index = True, left_index = True)\n",
    "        num_validation_data = std_scaled_validation_data.merge(min_max_scaled_validation_data, right_index = True, left_index = True)\n",
    "        \n",
    "    print(\"features to be scaled with min max\",  feats_min_max_scale)\n",
    "    print(\"features to be scaled with standarization\",  feats_std_scale)\n",
    "    \n",
    "    return num_train_data, num_validation_data\n"
   ]
  },
  {
   "cell_type": "markdown",
   "metadata": {},
   "source": [
    "### **Pre-Processing Function** "
   ]
  },
  {
   "cell_type": "code",
   "execution_count": 385,
   "metadata": {},
   "outputs": [],
   "source": [
    "def pre_processing(train_data, validation_data, target, boundry_threshold , correlation_threshold, shapiro_alpha):\n",
    "    \n",
    "    #2) handling highly Corrolated Features\n",
    "    train_data, validation_data = handling_highlyCorrolatedFeatures (train_data, validation_data, num_cols, target, correlation_threshold)\n",
    "\n",
    "    #3) outliers handling for the whole data using training data boundries\n",
    "    train_data, validation_data = outliers_handling(train_data, validation_data, boundry_threshold)\n",
    "\n",
    "    #4) skewness handling for the whole data training data boundries\n",
    "    train_data, validation_data = skewness_handling(train_data, validation_data)\n",
    "    \n",
    "    #5) Scaling Features\n",
    "    num_train_df, num_validation_df = scaling_features(train_data, validation_data, shapiro_alpha)\n",
    "\n",
    "    return num_train_df, num_validation_df"
   ]
  },
  {
   "cell_type": "code",
   "execution_count": 386,
   "metadata": {},
   "outputs": [
    {
     "name": "stdout",
     "output_type": "stream",
     "text": [
      "features to be scaled with min max ['WindGustDir_2', 'WindGustDir_3', 'WindGustDir_4', 'RainToday_1', 'WindSpeed9am', 'WindDir3pm_4', 'Humidity3pm', 'Cloud3pm', 'Pressure3pm', 'WindDir9am_1', 'Evaporation', 'MaxTemp', 'WindGustSpeed', 'Humidity9am', 'WindDir3pm_2', 'RainTomorrow', 'RISK_MM', 'WindDir9am_2', 'WindDir9am_4', 'WindSpeed3pm', 'Rainfall', 'WindDir3pm_1', 'WindGustDir_1', 'Cloud9am', 'WindDir9am_3']\n",
      "features to be scaled with standarization ['WindGustDir_0', 'WindDir3pm_3', 'WindDir3pm_0', 'RainToday_0', 'WindDir9am_0']\n",
      "final_train_data shape = (300, 30)\n",
      "final_test_data shape = (72, 30)\n"
     ]
    },
    {
     "name": "stderr",
     "output_type": "stream",
     "text": [
      "C:\\Users\\CRIZMA MEGA STORE\\AppData\\Local\\Temp\\ipykernel_21308\\2927179755.py:5: RuntimeWarning: invalid value encountered in double_scalars\n",
      "  skewness = np.sum(np.power(df[col] - mean_col, 3))/((size_rows - 1) * np.power(std_col, 3))\n",
      "c:\\Users\\CRIZMA MEGA STORE\\anaconda3\\lib\\site-packages\\scipy\\stats\\morestats.py:1678: UserWarning: Input data for shapiro has range zero. The results may not be accurate.\n",
      "  warnings.warn(\"Input data for shapiro has range zero. The results \"\n"
     ]
    }
   ],
   "source": [
    "final_train_data, final_test_data = pre_processing( train_data,\n",
    "                                                    validation_data,\n",
    "                                                    target='RainTomorrow',\n",
    "                                                    boundry_threshold = 3,\n",
    "                                                    correlation_threshold = 0.8,\n",
    "                                                    shapiro_alpha = 0.05\n",
    "                                                    )     \n",
    "print(f'final_train_data shape = {final_train_data.shape}')  \n",
    "print(f'final_test_data shape = {final_test_data.shape}')  "
   ]
  },
  {
   "cell_type": "code",
   "execution_count": 387,
   "metadata": {},
   "outputs": [
    {
     "data": {
      "text/html": [
       "<div>\n",
       "<style scoped>\n",
       "    .dataframe tbody tr th:only-of-type {\n",
       "        vertical-align: middle;\n",
       "    }\n",
       "\n",
       "    .dataframe tbody tr th {\n",
       "        vertical-align: top;\n",
       "    }\n",
       "\n",
       "    .dataframe thead th {\n",
       "        text-align: right;\n",
       "    }\n",
       "</style>\n",
       "<table border=\"1\" class=\"dataframe\">\n",
       "  <thead>\n",
       "    <tr style=\"text-align: right;\">\n",
       "      <th></th>\n",
       "      <th>WindGustDir_0</th>\n",
       "      <th>WindDir3pm_3</th>\n",
       "      <th>WindDir3pm_0</th>\n",
       "      <th>RainToday_0</th>\n",
       "      <th>WindDir9am_0</th>\n",
       "      <th>WindGustDir_2</th>\n",
       "      <th>WindGustDir_3</th>\n",
       "      <th>WindGustDir_4</th>\n",
       "      <th>RainToday_1</th>\n",
       "      <th>WindSpeed9am</th>\n",
       "      <th>WindDir3pm_4</th>\n",
       "      <th>Humidity3pm</th>\n",
       "      <th>Cloud3pm</th>\n",
       "      <th>Pressure3pm</th>\n",
       "      <th>WindDir9am_1</th>\n",
       "      <th>Evaporation</th>\n",
       "      <th>MaxTemp</th>\n",
       "      <th>WindGustSpeed</th>\n",
       "      <th>Humidity9am</th>\n",
       "      <th>WindDir3pm_2</th>\n",
       "      <th>RainTomorrow</th>\n",
       "      <th>RISK_MM</th>\n",
       "      <th>WindDir9am_2</th>\n",
       "      <th>WindDir9am_4</th>\n",
       "      <th>WindSpeed3pm</th>\n",
       "      <th>Rainfall</th>\n",
       "      <th>WindDir3pm_1</th>\n",
       "      <th>WindGustDir_1</th>\n",
       "      <th>Cloud9am</th>\n",
       "      <th>WindDir9am_3</th>\n",
       "    </tr>\n",
       "  </thead>\n",
       "  <tbody>\n",
       "    <tr>\n",
       "      <th>0</th>\n",
       "      <td>0.0</td>\n",
       "      <td>0.0</td>\n",
       "      <td>0.0</td>\n",
       "      <td>0.0</td>\n",
       "      <td>0.0</td>\n",
       "      <td>0.0</td>\n",
       "      <td>0.0</td>\n",
       "      <td>1.0</td>\n",
       "      <td>0.0</td>\n",
       "      <td>0.928839</td>\n",
       "      <td>1.0</td>\n",
       "      <td>0.626506</td>\n",
       "      <td>0.875</td>\n",
       "      <td>0.788162</td>\n",
       "      <td>1.0</td>\n",
       "      <td>0.000000</td>\n",
       "      <td>0.268116</td>\n",
       "      <td>0.388235</td>\n",
       "      <td>0.852459</td>\n",
       "      <td>0.0</td>\n",
       "      <td>0.0</td>\n",
       "      <td>0.059159</td>\n",
       "      <td>0.0</td>\n",
       "      <td>0.0</td>\n",
       "      <td>0.30</td>\n",
       "      <td>1.0</td>\n",
       "      <td>0.0</td>\n",
       "      <td>0.0</td>\n",
       "      <td>0.875</td>\n",
       "      <td>1.0</td>\n",
       "    </tr>\n",
       "    <tr>\n",
       "      <th>1</th>\n",
       "      <td>0.0</td>\n",
       "      <td>0.0</td>\n",
       "      <td>0.0</td>\n",
       "      <td>0.0</td>\n",
       "      <td>0.0</td>\n",
       "      <td>1.0</td>\n",
       "      <td>0.0</td>\n",
       "      <td>1.0</td>\n",
       "      <td>1.0</td>\n",
       "      <td>0.616001</td>\n",
       "      <td>1.0</td>\n",
       "      <td>0.349398</td>\n",
       "      <td>0.500</td>\n",
       "      <td>0.641745</td>\n",
       "      <td>0.0</td>\n",
       "      <td>0.647059</td>\n",
       "      <td>0.659420</td>\n",
       "      <td>0.211765</td>\n",
       "      <td>0.557377</td>\n",
       "      <td>0.0</td>\n",
       "      <td>0.0</td>\n",
       "      <td>0.000000</td>\n",
       "      <td>1.0</td>\n",
       "      <td>1.0</td>\n",
       "      <td>0.18</td>\n",
       "      <td>0.0</td>\n",
       "      <td>0.0</td>\n",
       "      <td>0.0</td>\n",
       "      <td>0.625</td>\n",
       "      <td>1.0</td>\n",
       "    </tr>\n",
       "    <tr>\n",
       "      <th>2</th>\n",
       "      <td>0.0</td>\n",
       "      <td>0.0</td>\n",
       "      <td>0.0</td>\n",
       "      <td>0.0</td>\n",
       "      <td>0.0</td>\n",
       "      <td>0.0</td>\n",
       "      <td>0.0</td>\n",
       "      <td>1.0</td>\n",
       "      <td>1.0</td>\n",
       "      <td>0.616001</td>\n",
       "      <td>1.0</td>\n",
       "      <td>0.481928</td>\n",
       "      <td>0.875</td>\n",
       "      <td>0.529595</td>\n",
       "      <td>0.0</td>\n",
       "      <td>0.254902</td>\n",
       "      <td>0.333333</td>\n",
       "      <td>0.329412</td>\n",
       "      <td>0.524590</td>\n",
       "      <td>0.0</td>\n",
       "      <td>0.0</td>\n",
       "      <td>0.000000</td>\n",
       "      <td>0.0</td>\n",
       "      <td>0.0</td>\n",
       "      <td>0.48</td>\n",
       "      <td>0.0</td>\n",
       "      <td>0.0</td>\n",
       "      <td>0.0</td>\n",
       "      <td>0.875</td>\n",
       "      <td>0.0</td>\n",
       "    </tr>\n",
       "    <tr>\n",
       "      <th>3</th>\n",
       "      <td>0.0</td>\n",
       "      <td>0.0</td>\n",
       "      <td>0.0</td>\n",
       "      <td>0.0</td>\n",
       "      <td>0.0</td>\n",
       "      <td>0.0</td>\n",
       "      <td>0.0</td>\n",
       "      <td>0.0</td>\n",
       "      <td>1.0</td>\n",
       "      <td>0.576444</td>\n",
       "      <td>1.0</td>\n",
       "      <td>0.192771</td>\n",
       "      <td>0.125</td>\n",
       "      <td>0.632399</td>\n",
       "      <td>0.0</td>\n",
       "      <td>0.686275</td>\n",
       "      <td>0.735507</td>\n",
       "      <td>0.200000</td>\n",
       "      <td>0.393443</td>\n",
       "      <td>0.0</td>\n",
       "      <td>0.0</td>\n",
       "      <td>0.000000</td>\n",
       "      <td>1.0</td>\n",
       "      <td>1.0</td>\n",
       "      <td>0.10</td>\n",
       "      <td>0.0</td>\n",
       "      <td>0.0</td>\n",
       "      <td>1.0</td>\n",
       "      <td>0.000</td>\n",
       "      <td>1.0</td>\n",
       "    </tr>\n",
       "    <tr>\n",
       "      <th>4</th>\n",
       "      <td>0.0</td>\n",
       "      <td>0.0</td>\n",
       "      <td>0.0</td>\n",
       "      <td>0.0</td>\n",
       "      <td>0.0</td>\n",
       "      <td>0.0</td>\n",
       "      <td>1.0</td>\n",
       "      <td>0.0</td>\n",
       "      <td>1.0</td>\n",
       "      <td>0.576444</td>\n",
       "      <td>1.0</td>\n",
       "      <td>0.253012</td>\n",
       "      <td>0.125</td>\n",
       "      <td>0.202492</td>\n",
       "      <td>0.0</td>\n",
       "      <td>0.627451</td>\n",
       "      <td>0.960145</td>\n",
       "      <td>0.305882</td>\n",
       "      <td>0.639344</td>\n",
       "      <td>0.0</td>\n",
       "      <td>0.0</td>\n",
       "      <td>0.000000</td>\n",
       "      <td>0.0</td>\n",
       "      <td>0.0</td>\n",
       "      <td>0.34</td>\n",
       "      <td>0.0</td>\n",
       "      <td>1.0</td>\n",
       "      <td>0.0</td>\n",
       "      <td>0.125</td>\n",
       "      <td>0.0</td>\n",
       "    </tr>\n",
       "  </tbody>\n",
       "</table>\n",
       "</div>"
      ],
      "text/plain": [
       "   WindGustDir_0  WindDir3pm_3  WindDir3pm_0  RainToday_0  WindDir9am_0  \\\n",
       "0            0.0           0.0           0.0          0.0           0.0   \n",
       "1            0.0           0.0           0.0          0.0           0.0   \n",
       "2            0.0           0.0           0.0          0.0           0.0   \n",
       "3            0.0           0.0           0.0          0.0           0.0   \n",
       "4            0.0           0.0           0.0          0.0           0.0   \n",
       "\n",
       "   WindGustDir_2  WindGustDir_3  WindGustDir_4  RainToday_1  WindSpeed9am  \\\n",
       "0            0.0            0.0            1.0          0.0      0.928839   \n",
       "1            1.0            0.0            1.0          1.0      0.616001   \n",
       "2            0.0            0.0            1.0          1.0      0.616001   \n",
       "3            0.0            0.0            0.0          1.0      0.576444   \n",
       "4            0.0            1.0            0.0          1.0      0.576444   \n",
       "\n",
       "   WindDir3pm_4  Humidity3pm  Cloud3pm  Pressure3pm  WindDir9am_1  \\\n",
       "0           1.0     0.626506     0.875     0.788162           1.0   \n",
       "1           1.0     0.349398     0.500     0.641745           0.0   \n",
       "2           1.0     0.481928     0.875     0.529595           0.0   \n",
       "3           1.0     0.192771     0.125     0.632399           0.0   \n",
       "4           1.0     0.253012     0.125     0.202492           0.0   \n",
       "\n",
       "   Evaporation   MaxTemp  WindGustSpeed  Humidity9am  WindDir3pm_2  \\\n",
       "0     0.000000  0.268116       0.388235     0.852459           0.0   \n",
       "1     0.647059  0.659420       0.211765     0.557377           0.0   \n",
       "2     0.254902  0.333333       0.329412     0.524590           0.0   \n",
       "3     0.686275  0.735507       0.200000     0.393443           0.0   \n",
       "4     0.627451  0.960145       0.305882     0.639344           0.0   \n",
       "\n",
       "   RainTomorrow   RISK_MM  WindDir9am_2  WindDir9am_4  WindSpeed3pm  Rainfall  \\\n",
       "0           0.0  0.059159           0.0           0.0          0.30       1.0   \n",
       "1           0.0  0.000000           1.0           1.0          0.18       0.0   \n",
       "2           0.0  0.000000           0.0           0.0          0.48       0.0   \n",
       "3           0.0  0.000000           1.0           1.0          0.10       0.0   \n",
       "4           0.0  0.000000           0.0           0.0          0.34       0.0   \n",
       "\n",
       "   WindDir3pm_1  WindGustDir_1  Cloud9am  WindDir9am_3  \n",
       "0           0.0            0.0     0.875           1.0  \n",
       "1           0.0            0.0     0.625           1.0  \n",
       "2           0.0            0.0     0.875           0.0  \n",
       "3           0.0            1.0     0.000           1.0  \n",
       "4           1.0            0.0     0.125           0.0  "
      ]
     },
     "execution_count": 387,
     "metadata": {},
     "output_type": "execute_result"
    }
   ],
   "source": [
    "final_train_data.head(5)"
   ]
  },
  {
   "cell_type": "markdown",
   "metadata": {},
   "source": [
    "## `04 ` Split Data into dependent cols and response col (X, Y)"
   ]
  },
  {
   "cell_type": "code",
   "execution_count": 388,
   "metadata": {},
   "outputs": [
    {
     "name": "stdout",
     "output_type": "stream",
     "text": [
      "X_train shape : (300, 29), Y_train shape : (300, 1)\n",
      "X_test shape : (72, 29), Y_test shape : (72, 1)\n"
     ]
    }
   ],
   "source": [
    "Y_train = final_train_data[['RainTomorrow']]\n",
    "X_train = final_train_data.loc[:, final_train_data.columns!='RainTomorrow']\n",
    "print(f'X_train shape : {X_train.shape}, Y_train shape : {Y_train.shape}')\n",
    "\n",
    "X_test = final_test_data.loc[:, final_test_data.columns!='RainTomorrow']\n",
    "Y_test = final_test_data[['RainTomorrow']]\n",
    "print(f'X_test shape : {X_test.shape}, Y_test shape : {Y_test.shape}')"
   ]
  },
  {
   "cell_type": "code",
   "execution_count": 389,
   "metadata": {},
   "outputs": [
    {
     "data": {
      "image/png": "[encoded data removed]",
      "text/plain": [
       "<Figure size 432x288 with 1 Axes>"
      ]
     },
     "metadata": {
      "needs_background": "light"
     },
     "output_type": "display_data"
    }
   ],
   "source": [
    "_ = sns.countplot(x='RainTomorrow', data=Y_test) "
   ]
  },
  {
   "cell_type": "markdown",
   "metadata": {},
   "source": [
    "## `05`  Finaaaaaaaaaaaaaaaaaaaaaaaaaaaaaaally Training The Model :D "
   ]
  },
  {
   "cell_type": "markdown",
   "id": "1560175c",
   "metadata": {},
   "source": [
    "## `01`Logistic Regression"
   ]
  },
  {
   "cell_type": "code",
   "execution_count": 390,
   "id": "09ac3563",
   "metadata": {},
   "outputs": [
    {
     "name": "stdout",
     "output_type": "stream",
     "text": [
      "AUC =  1.0\n"
     ]
    },
    {
     "name": "stderr",
     "output_type": "stream",
     "text": [
      "c:\\Users\\CRIZMA MEGA STORE\\anaconda3\\lib\\site-packages\\sklearn\\utils\\validation.py:73: DataConversionWarning: A column-vector y was passed when a 1d array was expected. Please change the shape of y to (n_samples, ), for example using ravel().\n",
      "  return f(**kwargs)\n"
     ]
    },
    {
     "data": {
      "image/png": "[encoded data removed]",
      "text/plain": [
       "<Figure size 432x288 with 1 Axes>"
      ]
     },
     "metadata": {
      "needs_background": "light"
     },
     "output_type": "display_data"
    }
   ],
   "source": [
    "from sklearn.linear_model import LogisticRegression\n",
    "from sklearn.metrics import roc_curve, roc_auc_score\n",
    "\n",
    "model = LogisticRegression(random_state=42, max_iter=500)\n",
    "model.fit(X_train, Y_train)\n",
    "\n",
    "y_pred = model.predict_proba(X_test)\n",
    "y_pred_prob = y_pred[:, [1]]\n",
    "fpr, tpr, thresholds = roc_curve(Y_test, y_pred_prob)\n",
    "auc = roc_auc_score(Y_test, y_pred_prob)\n",
    "\n",
    "plt.plot([0,1], [0,1], linestyle='--', label='Random Model')\n",
    "plt.plot(fpr, tpr, marker='.', label='Logistic')\n",
    "\n",
    "plt.title('ROC Curve')\n",
    "plt.xlabel('False Positive Rate')\n",
    "plt.ylabel('True Positive Rate')\n",
    "plt.legend()\n",
    "\n",
    "print('AUC = ', auc)\n",
    "plt.show()"
   ]
  },
  {
   "cell_type": "code",
   "execution_count": 391,
   "id": "b8f6c414",
   "metadata": {},
   "outputs": [
    {
     "name": "stdout",
     "output_type": "stream",
     "text": [
      "Train :\n",
      "               precision    recall  f1-score   support\n",
      "\n",
      "         0.0       0.97      0.99      0.98       150\n",
      "         1.0       0.99      0.97      0.98       150\n",
      "\n",
      "    accuracy                           0.98       300\n",
      "   macro avg       0.98      0.98      0.98       300\n",
      "weighted avg       0.98      0.98      0.98       300\n",
      "\n",
      "Test :\n",
      "               precision    recall  f1-score   support\n",
      "\n",
      "         0.0       1.00      1.00      1.00        58\n",
      "         1.0       1.00      1.00      1.00        14\n",
      "\n",
      "    accuracy                           1.00        72\n",
      "   macro avg       1.00      1.00      1.00        72\n",
      "weighted avg       1.00      1.00      1.00        72\n",
      "\n"
     ]
    }
   ],
   "source": [
    "# Classification report\n",
    "print('Train :\\n', classification_report(Y_train, model.predict(X_train.values).reshape(-1, 1)))\n",
    "print('Test :\\n', classification_report(Y_test, model.predict(X_test.values).reshape(-1, 1)))"
   ]
  },
  {
   "cell_type": "markdown",
   "id": "abe65325",
   "metadata": {},
   "source": [
    "## `02` SVC"
   ]
  },
  {
   "cell_type": "code",
   "execution_count": 392,
   "metadata": {},
   "outputs": [
    {
     "name": "stdout",
     "output_type": "stream",
     "text": [
      "Best hyper_parameters for Linear kernal is :  {'C': 1, 'kernel': 'linear'}\n"
     ]
    }
   ],
   "source": [
    "from sklearn.model_selection import GridSearchCV\n",
    " \n",
    "param_grid = {'C': [0.01, 0.1, 1],\n",
    "              'kernel': ['linear']}\n",
    " \n",
    "grid = GridSearchCV(SVC(), param_grid, cv = 3)\n",
    " \n",
    "grid.fit(X_train, Y_train.values.ravel())\n",
    "print(\"Best hyper_parameters for Linear kernal is : \", grid.best_params_)"
   ]
  },
  {
   "cell_type": "code",
   "execution_count": 393,
   "id": "46345a47",
   "metadata": {},
   "outputs": [
    {
     "name": "stdout",
     "output_type": "stream",
     "text": [
      "Train :\n",
      "               precision    recall  f1-score   support\n",
      "\n",
      "         0.0       0.99      1.00      1.00       150\n",
      "         1.0       1.00      0.99      1.00       150\n",
      "\n",
      "    accuracy                           1.00       300\n",
      "   macro avg       1.00      1.00      1.00       300\n",
      "weighted avg       1.00      1.00      1.00       300\n",
      "\n",
      "Test :\n",
      "               precision    recall  f1-score   support\n",
      "\n",
      "         0.0       0.98      0.98      0.98        58\n",
      "         1.0       0.93      0.93      0.93        14\n",
      "\n",
      "    accuracy                           0.97        72\n",
      "   macro avg       0.96      0.96      0.96        72\n",
      "weighted avg       0.97      0.97      0.97        72\n",
      "\n"
     ]
    }
   ],
   "source": [
    "svm  = SVC(kernel = 'linear', C = 1)\n",
    "svm.fit(X_train.values, Y_train.values.ravel())\n",
    "\n",
    "svm_y_train_pred = svm.predict(X_train.values).reshape(-1, 1)\n",
    "svm_test_pred = svm.predict(X_test.values).reshape(-1, 1)\n",
    "\n",
    "print('Train :\\n', classification_report(Y_train, svm_y_train_pred))\n",
    "print('Test :\\n', classification_report(Y_test, svm_test_pred))"
   ]
  },
  {
   "cell_type": "markdown",
   "id": "bb0702cd",
   "metadata": {},
   "source": [
    "## `03` Decision Tree"
   ]
  },
  {
   "cell_type": "code",
   "execution_count": 394,
   "id": "709c7202",
   "metadata": {},
   "outputs": [],
   "source": [
    "from sklearn.tree import DecisionTreeClassifier\n",
    "from sklearn.model_selection import GridSearchCV\n",
    "from sklearn.metrics import make_scorer\n",
    "\n",
    "\n",
    "max_features = [x for x in range(2, 10)]\n",
    "max_depth = [x for x in range(4, 10)]\n",
    "ccp_alpha = [x for x in np.linspace(0.0001, 0.01, num = 5)]\n",
    "random_grid = {'max_features': max_features,\n",
    "               'max_depth': max_depth,\n",
    "               'ccp_alpha': ccp_alpha,\n",
    "               }\n",
    "\n",
    "scorer = make_scorer(f1_score)\n",
    "tree_clf = DecisionTreeClassifier(random_state = 42)"
   ]
  },
  {
   "cell_type": "code",
   "execution_count": 395,
   "id": "86edee88",
   "metadata": {},
   "outputs": [
    {
     "data": {
      "text/plain": [
       "{'ccp_alpha': 0.0001, 'max_depth': 4, 'max_features': 7}"
      ]
     },
     "execution_count": 395,
     "metadata": {},
     "output_type": "execute_result"
    }
   ],
   "source": [
    "grid_search = GridSearchCV(estimator = tree_clf, \n",
    "                           param_grid = random_grid, \n",
    "                           scoring = scorer).fit(X_train, Y_train)\n",
    "grid_search.best_params_"
   ]
  },
  {
   "cell_type": "code",
   "execution_count": 396,
   "id": "f65a1901",
   "metadata": {},
   "outputs": [
    {
     "name": "stdout",
     "output_type": "stream",
     "text": [
      "Train :\n",
      "               precision    recall  f1-score   support\n",
      "\n",
      "         0.0       1.00      1.00      1.00       150\n",
      "         1.0       1.00      1.00      1.00       150\n",
      "\n",
      "    accuracy                           1.00       300\n",
      "   macro avg       1.00      1.00      1.00       300\n",
      "weighted avg       1.00      1.00      1.00       300\n",
      "\n",
      "Test :\n",
      "               precision    recall  f1-score   support\n",
      "\n",
      "         0.0       1.00      1.00      1.00        58\n",
      "         1.0       1.00      1.00      1.00        14\n",
      "\n",
      "    accuracy                           1.00        72\n",
      "   macro avg       1.00      1.00      1.00        72\n",
      "weighted avg       1.00      1.00      1.00        72\n",
      "\n"
     ]
    }
   ],
   "source": [
    "tree_clf = DecisionTreeClassifier(ccp_alpha=0.0001,\n",
    "                                  max_depth=4,\n",
    "                                  max_features=7,\n",
    "                                  random_state = 42)\n",
    "tree_clf.fit(X_train, Y_train)\n",
    "tree_y_test_pred = tree_clf.predict(X_test)\n",
    "tree_y_train_pred = tree_clf.predict(X_train)\n",
    "\n",
    "print('Train :\\n', classification_report(Y_train, tree_y_train_pred))\n",
    "print('Test :\\n', classification_report(Y_test, tree_y_test_pred))"
   ]
  }
 ],
 "metadata": {
  "interpreter": {
   "hash": "6456470966aacefa388c68c9fe7d64bbc7d9820ea7c6886760c09cd5181e254c"
  },
  "kernelspec": {
   "display_name": "Python 3.8.5 ('base')",
   "language": "python",
   "name": "python3"
  },
  "language_info": {
   "codemirror_mode": {
    "name": "ipython",
    "version": 3
   },
   "file_extension": ".py",
   "mimetype": "text/x-python",
   "name": "python",
   "nbconvert_exporter": "python",
   "pygments_lexer": "ipython3",
   "version": "3.8.5"
  },
  "orig_nbformat": 4
 },
 "nbformat": 4,
 "nbformat_minor": 2
}
